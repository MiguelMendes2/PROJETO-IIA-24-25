{
 "cells": [
  {
   "cell_type": "markdown",
   "metadata": {},
   "source": [
    "## Função `csp_possivel_solucao`"
   ]
  },
  {
   "cell_type": "code",
   "execution_count": null,
   "metadata": {},
   "outputs": [],
   "source": [
    "from csp_v3 import *\n",
    "\n",
    "'''\n",
    "Para implementarem a vossa função **`csp_possivel_solucao`**, devem formular o problema como um CSP. A função recebe como input exatamente o mesmo que a função `possivel_solucao` e\n",
    "deve retornar como output uma instância de um problema CSP. Notem que o problema pode ser visto como um problema de coloração de mapas em que:\n",
    "\n",
    "- As células são as variáveis (as regiões num mapa);\n",
    "- Os domínios são dados pela lista de goals alcançáveis pelas respectivas células (as cores para colorir o mapa);\n",
    "- Duas células são vizinhas se partilharem algum dos goals (se forem regiões contíguas);\n",
    "- Duas células vizinhas não podem ter o mesmo valor (duas regiões contíguas não podem ter a mesma cor).\n",
    "\n",
    "Lembrem-se que ambos os inputs são dados, i.e., as caixas e a atribuição de células a listas de goals (os goals alcançáveis).\n",
    "'''\n",
    "def csp_possivel_solucao(caixas, goals_alcancaveis):\n",
    "    variables = list(caixas)\n",
    "    domains = {var: goals_alcancaveis[var] for var in variables}\n",
    "    neighbors = {var: [var2 for var2 in variables if var != var2 and set(goals_alcancaveis[var]).intersection(goals_alcancaveis[var2]) and goals_alcancaveis[var2]] for var in variables}\n",
    "    for var in variables:\n",
    "        if neighbors[var] == []:\n",
    "            neighbors.pop(var)\n",
    "\n",
    "    def constraints(var1, a, var2, b):\n",
    "        return a != b\n",
    "\n",
    "    return CSP(variables, domains, neighbors, constraints)\n",
    "\n",
    "def possivel_solucao(caixas,goals_alcancaveis):\n",
    "    csp_sokoban1 = csp_possivel_solucao(caixas,goals_alcancaveis) # <--- a vossa função csp_possivel_solucao\n",
    "    r = backtracking_search(csp_sokoban1, inference = forward_checking)\n",
    "    return r"
   ]
  },
  {
   "cell_type": "markdown",
   "metadata": {},
   "source": [
    "### TESTES"
   ]
  },
  {
   "cell_type": "code",
   "execution_count": 87,
   "metadata": {},
   "outputs": [
    {
     "name": "stdout",
     "output_type": "stream",
     "text": [
      "{}\n"
     ]
    }
   ],
   "source": [
    "from sokoban_aval4 import *\n",
    "\n",
    "linha1= \"#####\\n\"\n",
    "linha2= \"#..o#\\n\"\n",
    "linha3= \"#.@.#\\n\"\n",
    "linha4= \"#.$.#\\n\"\n",
    "linha5= \"#...#\\n\"\n",
    "linha6= \"#####\\n\"\n",
    "mundoS=linha1+linha2+linha3+linha4+linha5+linha6\n",
    "\n",
    "alcancaveis={(1, 2): [(1, 3)], (2, 1): [], (4, 1): [], (3, 1): [], (4, 3): [], (1, 1): [], (4, 2): [], (2, 3): [(1, 3)], (3, 3): [(1, 3)], (2, 2): [(1, 3)], (3, 2): [(1, 3)], (1, 3): [(1, 3)]}\n",
    "\n",
    "s = Sokoban(situacaoInicial=mundoS)\n",
    "caixas = s.initial['caixas']\n",
    "csp_sokoban1 = csp_possivel_solucao(caixas,alcancaveis)\n",
    "\n",
    "try:\n",
    "    sorted_neighbors = {key: sorted(values) for key, values in sorted(csp_sokoban1.neighbors.items())}\n",
    "    print(dict(sorted(sorted_neighbors.items())))\n",
    "except Exception as e:\n",
    "    print(repr(e))\n",
    "#RESULTADO ESPERADO\n",
    "# {}"
   ]
  },
  {
   "cell_type": "code",
   "execution_count": 63,
   "metadata": {},
   "outputs": [
    {
     "name": "stdout",
     "output_type": "stream",
     "text": [
      "Variáveis: [(3, 4), (4, 3), (4, 5), (5, 5)]\n",
      "Domínios: {(3, 4): [(3, 1), (4, 1), (4, 2), (5, 3)], (4, 3): [(3, 1), (4, 1), (4, 2), (5, 3)], (4, 5): [(3, 1), (4, 1), (4, 2), (5, 3)], (5, 5): [(3, 1), (4, 1), (4, 2), (5, 3)]}\n",
      "Vizinhos: {(3, 4): [(4, 3), (4, 5), (5, 5)], (4, 3): [(3, 4), (4, 5), (5, 5)], (4, 5): [(3, 4), (4, 3), (5, 5)], (5, 5): [(3, 4), (4, 3), (4, 5)]}\n",
      "Restrição obedecida? False\n",
      "Restrição obedecida? True\n"
     ]
    }
   ],
   "source": [
    "## TESTE 1\n",
    "from sokoban_aval4 import *\n",
    "linha1= \"    ####\\n\"\n",
    "linha2= \"  ##...#\\n\"\n",
    "linha3= \"###....#\\n\"\n",
    "linha4= \"#o..$#@#\\n\"\n",
    "linha5= \"#oo$.$.#\\n\"\n",
    "linha6= \"###o.$.#\\n\"\n",
    "linha7= \"  ###..#\\n\"\n",
    "linha8= \"    ####\\n\"\n",
    "mundoS=linha1+linha2+linha3+linha4+linha5+linha6+linha7+linha8\n",
    "\n",
    "alcancaveis={(1, 4): [], (1, 5): [], (1, 6): [], (2, 3): [], (2, 4): [(3, 1), (4, 1), (4, 2), (5, 3)], (2, 5): [(3, 1), (4, 1), (4, 2), (5, 3)], (2, 6): [], (3, 1): [(3, 1)], (3, 2): [(3, 1), (4, 1), (4, 2), (5, 3)], (3, 3): [(3, 1), (4, 1), (4, 2), (5, 3)], (3, 4): [(3, 1), (4, 1), (4, 2), (5, 3)], (3, 6): [], (4, 1): [(4, 1)], (4, 2): [(3, 1), (4, 1), (4, 2), (5, 3)], (4, 3): [(3, 1), (4, 1), (4, 2), (5, 3)], (4, 4): [(3, 1), (4, 1), (4, 2), (5, 3)], (4, 5): [(3, 1), (4, 1), (4, 2), (5, 3)], (4, 6): [], (5, 3): [(5, 3)], (5, 4): [(3, 1), (4, 1), (4, 2), (5, 3)], (5, 5): [(3, 1), (4, 1), (4, 2), (5, 3)], (5, 6): [], (6, 5): [], (6, 6): []}\n",
    "\n",
    "s = Sokoban(situacaoInicial=mundoS)\n",
    "caixas = s.initial['caixas']\n",
    "csp_sokoban1 = csp_possivel_solucao(caixas,alcancaveis)\n",
    "\n",
    "print('Variáveis:',sorted(csp_sokoban1.variables))\n",
    "print('Domínios:',dict(sorted(csp_sokoban1.domains.items())))\n",
    "sorted_neighbors = {key: sorted(values) for key, values in sorted(csp_sokoban1.neighbors.items())}\n",
    "print('Vizinhos:',dict(sorted(sorted_neighbors.items())))\n",
    "print('Restrição obedecida?',csp_sokoban1.constraints((3,4),(3,1),(4,3),(3,1)))\n",
    "print('Restrição obedecida?',csp_sokoban1.constraints((3,4),(3,1),(4,3),(4,1)))\n",
    "\n",
    "#RESULTADO ESPERADO\n",
    "#Variáveis: [(3, 4), (4, 3), (4, 5), (5, 5)]\n",
    "#Domínios: {(3, 4): [(3, 1), (4, 1), (4, 2), (5, 3)], (4, 3): [(3, 1), (4, 1), (4, 2), (5, 3)], (4, 5): [(3, 1), (4, 1), (4, 2), (5, 3)], (5, 5): [(3, 1), (4, 1), (4, 2), (5, 3)]}\n",
    "#Vizinhos: {(3, 4): [(4, 3), (4, 5), (5, 5)], (4, 3): [(3, 4), (4, 5), (5, 5)], (4, 5): [(3, 4), (4, 3), (5, 5)], (5, 5): [(3, 4), (4, 3), (4, 5)]}\n",
    "#Restrição obedecida? False\n",
    "#Restrição obedecida? True\n"
   ]
  },
  {
   "cell_type": "code",
   "execution_count": 64,
   "metadata": {},
   "outputs": [
    {
     "name": "stdout",
     "output_type": "stream",
     "text": [
      "{(3, 4): (4, 2), (4, 3): (5, 3), (4, 5): (3, 1), (5, 5): (4, 1)}\n"
     ]
    }
   ],
   "source": [
    "## TESTE 2\n",
    "from sokoban_aval4 import *\n",
    "\n",
    "linha1= \"    ####\\n\"\n",
    "linha2= \"  ##...#\\n\"\n",
    "linha3= \"###....#\\n\"\n",
    "linha4= \"#o..$#@#\\n\"\n",
    "linha5= \"#oo$.$.#\\n\"\n",
    "linha6= \"###o.$.#\\n\"\n",
    "linha7= \"  ###..#\\n\"\n",
    "linha8= \"    ####\\n\"\n",
    "mundoS=linha1+linha2+linha3+linha4+linha5+linha6+linha7+linha8\n",
    "\n",
    "alcancaveis={(1, 4): [], (1, 5): [], (1, 6): [], (2, 3): [], (2, 4): [(3, 1), (4, 1), (4, 2), (5, 3)], (2, 5): [(3, 1), (4, 1), (4, 2), (5, 3)], (2, 6): [], (3, 1): [(3, 1)], (3, 2): [(3, 1), (4, 1), (4, 2), (5, 3)], (3, 3): [(3, 1), (4, 1), (4, 2), (5, 3)], (3, 4): [(3, 1), (4, 1), (4, 2), (5, 3)], (3, 6): [], (4, 1): [(4, 1)], (4, 2): [(3, 1), (4, 1), (4, 2), (5, 3)], (4, 3): [(3, 1), (4, 1), (4, 2), (5, 3)], (4, 4): [(3, 1), (4, 1), (4, 2), (5, 3)], (4, 5): [(3, 1), (4, 1), (4, 2), (5, 3)], (4, 6): [], (5, 3): [(5, 3)], (5, 4): [(3, 1), (4, 1), (4, 2), (5, 3)], (5, 5): [(3, 1), (4, 1), (4, 2), (5, 3)], (5, 6): [], (6, 5): [], (6, 6): []}\n",
    "\n",
    "s = Sokoban(situacaoInicial=mundoS)\n",
    "caixas = s.initial['caixas']\n",
    "result = possivel_solucao(caixas,alcancaveis) # <--- usa a vossa função csp_possivel_solucao\n",
    "if result != None:\n",
    "    result = dict(sorted(result.items()))\n",
    "print(result)\n",
    "\n",
    "\n",
    "# RESULTADO ESPERADO\n",
    "#{(3, 4): (4, 2), (4, 3): (5, 3), (4, 5): (3, 1), (5, 5): (4, 1)}\n",
    "#"
   ]
  },
  {
   "cell_type": "code",
   "execution_count": 65,
   "metadata": {},
   "outputs": [
    {
     "name": "stdout",
     "output_type": "stream",
     "text": [
      "None\n"
     ]
    }
   ],
   "source": [
    "## TESTE 3\n",
    "from sokoban_aval4 import *\n",
    "\n",
    "linha1= \"    ####\\n\"\n",
    "linha2= \"  ##...#\\n\"\n",
    "linha3= \"###....#\\n\"\n",
    "linha4= \"#o..$#@#\\n\"\n",
    "linha5= \"#oo$.$.#\\n\"\n",
    "linha6= \"###o...#\\n\"\n",
    "linha7= \"  ###$.#\\n\"\n",
    "linha8= \"    ####\\n\"\n",
    "mundoS=linha1+linha2+linha3+linha4+linha5+linha6+linha7+linha8\n",
    "\n",
    "alcancaveis={(1, 4): [], (1, 5): [], (1, 6): [], (2, 3): [], (2, 4): [(3, 1), (4, 1), (4, 2), (5, 3)], (2, 5): [(3, 1), (4, 1), (4, 2), (5, 3)], (2, 6): [], (3, 1): [(3, 1)], (3, 2): [(3, 1), (4, 1), (4, 2), (5, 3)], (3, 3): [(3, 1), (4, 1), (4, 2), (5, 3)], (3, 4): [(3, 1), (4, 1), (4, 2), (5, 3)], (3, 6): [], (4, 1): [(4, 1)], (4, 2): [(3, 1), (4, 1), (4, 2), (5, 3)], (4, 3): [(3, 1), (4, 1), (4, 2), (5, 3)], (4, 4): [(3, 1), (4, 1), (4, 2), (5, 3)], (4, 5): [(3, 1), (4, 1), (4, 2), (5, 3)], (4, 6): [], (5, 3): [(5, 3)], (5, 4): [(3, 1), (4, 1), (4, 2), (5, 3)], (5, 5): [(3, 1), (4, 1), (4, 2), (5, 3)], (5, 6): [], (6, 5): [], (6, 6): []}\n",
    "\n",
    "s = Sokoban(situacaoInicial=mundoS)\n",
    "caixas = s.initial['caixas']\n",
    "result = possivel_solucao(caixas,alcancaveis) # <--- usa a vossa função csp_possivel_solucao\n",
    "if result != None:\n",
    "    result = dict(sorted(result.items()))\n",
    "print(result)\n",
    "\n",
    "# RESULTADO ESPERADO\n",
    "# None"
   ]
  },
  {
   "cell_type": "markdown",
   "metadata": {},
   "source": [
    "## Função `csp_find_alcancaveis_1goal`"
   ]
  },
  {
   "cell_type": "code",
   "execution_count": 14,
   "metadata": {},
   "outputs": [],
   "source": [
    "from csp_v3 import *\n",
    "from sokoban_aval4 import *\n",
    "\n",
    "def find_alcancaveis_1goal(s, goal):\n",
    "    \"\"\"\n",
    "    Para implementarem a função **`csp_find_alcancaveis_1goal`** devem formular o problema como um CSP em que:\n",
    "        - As células são as variáveis;\n",
    "        - Os domínios são a possibilidade (1) ou não (0) de uma caixa partir da célula e chegar ao goal;\n",
    "        - Duas células são vizinhas se forem adjacentes (na vertical ou horizontal) e se for possível empurrar uma caixa de uma para a outra, num dos sentidos ou nos dois. Se forem adjacentes, mas nenhuma caixa pode ser empurrada de uma para a outra, então não são vizinhas.\n",
    "        - As restrições, tantos as unárias como as binárias, ficam por vossa conta!\n",
    "    Reparem que este CSP pode devolver soluções que, apesar de válidas no contexto do problema, não ajudam o Sokoban tanto como outras. Por exemplo, se duas soluções válidas tiverem como única diferença o valor atribuído a uma das células (0 num caso, 1 no outro), a solução que mais ajuda o Sokoban é aquela que tem o 0, pois permite-lhe mais facilmente detetar um *deadlock*. É por isso que a função `find_alcancaveis_1goal` faz sempre a procura com `order_domain_values = number_ascending_order`, como especificado acima.\n",
    "    \"\"\"\n",
    "    caixas = s.initial['caixas']\n",
    "    variables = list(s.navegaveis)\n",
    "    domains = {var: [0, 1] for var in variables}\n",
    "\n",
    "    def is_adjacent(var1, var2):\n",
    "        return abs(var1[0] - var2[0]) + abs(var1[1] - var2[1]) == 1\n",
    "\n",
    "    neighbors = {var: [var2 for var2 in variables if var != var2 and is_adjacent(var, var2)] for var in variables}\n",
    "\n",
    "\n",
    "    def constraints(var1, a, var2, b):\n",
    "        if a == b:\n",
    "            return False\n",
    "        if a == 1 and b == 1:\n",
    "            return False\n",
    "        if a == 0 and b == 0:\n",
    "            return False\n",
    "        if a == 1:\n",
    "            if var1 in s.initial['caixas']:\n",
    "                if var2 in s.initial['caixas']:\n",
    "                    return False\n",
    "                if var2 == goal:\n",
    "                    return True\n",
    "            return True\n",
    "        if b == 1:\n",
    "            if var2 in s.initial['caixas']:\n",
    "                if var1 in s.initial['caixas']:\n",
    "                    return False\n",
    "                if var1 == goal:\n",
    "                    return True\n",
    "            return True\n",
    "        return True\n",
    "\n",
    "    csp = CSP(variables, domains, neighbors, constraints)\n",
    "    result = backtracking_search(csp, inference=forward_checking, order_domain_values=number_ascending_order)\n",
    "    return result"
   ]
  },
  {
   "cell_type": "markdown",
   "metadata": {},
   "source": [
    "### TESTES"
   ]
  },
  {
   "cell_type": "code",
   "execution_count": 15,
   "metadata": {},
   "outputs": [
    {
     "name": "stdout",
     "output_type": "stream",
     "text": [
      "{(1, 1): 1, (1, 2): 0, (1, 3): 1, (2, 1): 0, (2, 2): 1, (2, 3): 0, (3, 1): 1, (3, 2): 0, (3, 3): 1, (4, 1): 0, (4, 2): 1, (4, 3): 0}\n"
     ]
    }
   ],
   "source": [
    "from sokoban_aval4 import *\n",
    "\n",
    "linha1= \"#####\\n\"\n",
    "linha2= \"#...#\\n\"\n",
    "linha3= \"#.@.#\\n\"\n",
    "linha4= \"#.$.#\\n\"\n",
    "linha5= \"#.o.#\\n\"\n",
    "linha6= \"#####\\n\"\n",
    "mundoS=linha1+linha2+linha3+linha4+linha5+linha6\n",
    "\n",
    "s = Sokoban(situacaoInicial=mundoS)\n",
    "result = find_alcancaveis_1goal(s,(4,2)) # <--- usa a vossa função csp_find_alcancaveis_1goal\n",
    "result = dict(sorted(result.items()))\n",
    "print(result)\n",
    "# Mais uma vez, só funciona quando completarem a função `csp_find_alcancaveis_1goal`. O resultado da célula anterior deve ser:\n",
    "# {(1, 1): 0, (1, 2): 0, (1, 3): 0, (2, 1): 0, (2, 2): 1, (2, 3): 0, (3, 1): 0, (3, 2): 1, (3, 3): 0, (4, 1): 0, (4, 2): 1, (4, 3): 0}\n"
   ]
  }
 ],
 "metadata": {
  "colab": {
   "collapsed_sections": [],
   "name": "Untitled0.ipynb",
   "provenance": [],
   "version": "0.3.2"
  },
  "kernelspec": {
   "display_name": "base",
   "language": "python",
   "name": "python3"
  },
  "language_info": {
   "codemirror_mode": {
    "name": "ipython",
    "version": 3
   },
   "file_extension": ".py",
   "mimetype": "text/x-python",
   "name": "python",
   "nbconvert_exporter": "python",
   "pygments_lexer": "ipython3",
   "version": "3.12.4"
  }
 },
 "nbformat": 4,
 "nbformat_minor": 2
}
