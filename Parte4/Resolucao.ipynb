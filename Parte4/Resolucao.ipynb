{
 "cells": [
  {
   "cell_type": "markdown",
   "metadata": {},
   "source": [
    "## Função `csp_possivel_solucao`"
   ]
  },
  {
   "cell_type": "code",
   "execution_count": 37,
   "metadata": {},
   "outputs": [],
   "source": [
    "from csp_v3 import *\n",
    "\n",
    "'''\n",
    "Para implementarem a vossa função **`csp_possivel_solucao`**, devem formular o problema como um CSP. A função recebe como input exatamente o mesmo que a função `possivel_solucao` e\n",
    "deve retornar como output uma instância de um problema CSP. Notem que o problema pode ser visto como um problema de coloração de mapas em que:\n",
    "\n",
    "- As células são as variáveis (as regiões num mapa);\n",
    "- Os domínios são dados pela lista de goals alcançáveis pelas respectivas células (as cores para colorir o mapa);\n",
    "- Duas células são vizinhas se partilharem algum dos goals (se forem regiões contíguas);\n",
    "- Duas células vizinhas não podem ter o mesmo valor (duas regiões contíguas não podem ter a mesma cor).\n",
    "\n",
    "Lembrem-se que ambos os inputs são dados, i.e., as caixas e a atribuição de células a listas de goals (os goals alcançáveis).\n",
    "'''\n",
    "def csp_possivel_solucao(caixas, goals_alcancaveis):\n",
    "    variables = list(caixas)\n",
    "    domains = {var: goals_alcancaveis[var] for var in variables}\n",
    "    neighbors = {var: [var2 for var2 in variables if var != var2 and set(goals_alcancaveis[var]).intersection(goals_alcancaveis[var2]) and goals_alcancaveis[var2]] for var in variables}\n",
    "    for var in variables:\n",
    "        if neighbors[var] == []:\n",
    "            neighbors.pop(var)\n",
    "\n",
    "    def constraints(var1, a, var2, b):\n",
    "        return a != b\n",
    "\n",
    "    return CSP(variables, domains, neighbors, constraints)\n",
    "\n",
    "def possivel_solucao(caixas,goals_alcancaveis):\n",
    "    csp_sokoban1 = csp_possivel_solucao(caixas,goals_alcancaveis) # <--- a vossa função csp_possivel_solucao\n",
    "    r = backtracking_search(csp_sokoban1, inference = forward_checking)\n",
    "    return r"
   ]
  },
  {
   "cell_type": "markdown",
   "metadata": {},
   "source": [
    "### TESTES"
   ]
  },
  {
   "cell_type": "code",
   "execution_count": 38,
   "metadata": {},
   "outputs": [
    {
     "name": "stdout",
     "output_type": "stream",
     "text": [
      "{}\n"
     ]
    }
   ],
   "source": [
    "from sokoban_aval4 import *\n",
    "\n",
    "linha1= \"#####\\n\"\n",
    "linha2= \"#..o#\\n\"\n",
    "linha3= \"#.@.#\\n\"\n",
    "linha4= \"#.$.#\\n\"\n",
    "linha5= \"#...#\\n\"\n",
    "linha6= \"#####\\n\"\n",
    "mundoS=linha1+linha2+linha3+linha4+linha5+linha6\n",
    "\n",
    "alcancaveis={(1, 2): [(1, 3)], (2, 1): [], (4, 1): [], (3, 1): [], (4, 3): [], (1, 1): [], (4, 2): [], (2, 3): [(1, 3)], (3, 3): [(1, 3)], (2, 2): [(1, 3)], (3, 2): [(1, 3)], (1, 3): [(1, 3)]}\n",
    "\n",
    "s = Sokoban(situacaoInicial=mundoS)\n",
    "caixas = s.initial['caixas']\n",
    "csp_sokoban1 = csp_possivel_solucao(caixas,alcancaveis)\n",
    "\n",
    "try:\n",
    "    sorted_neighbors = {key: sorted(values) for key, values in sorted(csp_sokoban1.neighbors.items())}\n",
    "    print(dict(sorted(sorted_neighbors.items())))\n",
    "except Exception as e:\n",
    "    print(repr(e))\n",
    "#RESULTADO ESPERADO\n",
    "# {}"
   ]
  },
  {
   "cell_type": "code",
   "execution_count": 39,
   "metadata": {},
   "outputs": [
    {
     "name": "stdout",
     "output_type": "stream",
     "text": [
      "Variáveis: [(3, 4), (4, 3), (4, 5), (5, 5)]\n",
      "Domínios: {(3, 4): [(3, 1), (4, 1), (4, 2), (5, 3)], (4, 3): [(3, 1), (4, 1), (4, 2), (5, 3)], (4, 5): [(3, 1), (4, 1), (4, 2), (5, 3)], (5, 5): [(3, 1), (4, 1), (4, 2), (5, 3)]}\n",
      "Vizinhos: {(3, 4): [(4, 3), (4, 5), (5, 5)], (4, 3): [(3, 4), (4, 5), (5, 5)], (4, 5): [(3, 4), (4, 3), (5, 5)], (5, 5): [(3, 4), (4, 3), (4, 5)]}\n",
      "Restrição obedecida? False\n",
      "Restrição obedecida? True\n"
     ]
    }
   ],
   "source": [
    "## TESTE 1\n",
    "from sokoban_aval4 import *\n",
    "linha1= \"    ####\\n\"\n",
    "linha2= \"  ##...#\\n\"\n",
    "linha3= \"###....#\\n\"\n",
    "linha4= \"#o..$#@#\\n\"\n",
    "linha5= \"#oo$.$.#\\n\"\n",
    "linha6= \"###o.$.#\\n\"\n",
    "linha7= \"  ###..#\\n\"\n",
    "linha8= \"    ####\\n\"\n",
    "mundoS=linha1+linha2+linha3+linha4+linha5+linha6+linha7+linha8\n",
    "\n",
    "alcancaveis={(1, 4): [], (1, 5): [], (1, 6): [], (2, 3): [], (2, 4): [(3, 1), (4, 1), (4, 2), (5, 3)], (2, 5): [(3, 1), (4, 1), (4, 2), (5, 3)], (2, 6): [], (3, 1): [(3, 1)], (3, 2): [(3, 1), (4, 1), (4, 2), (5, 3)], (3, 3): [(3, 1), (4, 1), (4, 2), (5, 3)], (3, 4): [(3, 1), (4, 1), (4, 2), (5, 3)], (3, 6): [], (4, 1): [(4, 1)], (4, 2): [(3, 1), (4, 1), (4, 2), (5, 3)], (4, 3): [(3, 1), (4, 1), (4, 2), (5, 3)], (4, 4): [(3, 1), (4, 1), (4, 2), (5, 3)], (4, 5): [(3, 1), (4, 1), (4, 2), (5, 3)], (4, 6): [], (5, 3): [(5, 3)], (5, 4): [(3, 1), (4, 1), (4, 2), (5, 3)], (5, 5): [(3, 1), (4, 1), (4, 2), (5, 3)], (5, 6): [], (6, 5): [], (6, 6): []}\n",
    "\n",
    "s = Sokoban(situacaoInicial=mundoS)\n",
    "caixas = s.initial['caixas']\n",
    "csp_sokoban1 = csp_possivel_solucao(caixas,alcancaveis)\n",
    "\n",
    "print('Variáveis:',sorted(csp_sokoban1.variables))\n",
    "print('Domínios:',dict(sorted(csp_sokoban1.domains.items())))\n",
    "sorted_neighbors = {key: sorted(values) for key, values in sorted(csp_sokoban1.neighbors.items())}\n",
    "print('Vizinhos:',dict(sorted(sorted_neighbors.items())))\n",
    "print('Restrição obedecida?',csp_sokoban1.constraints((3,4),(3,1),(4,3),(3,1)))\n",
    "print('Restrição obedecida?',csp_sokoban1.constraints((3,4),(3,1),(4,3),(4,1)))\n",
    "\n",
    "#RESULTADO ESPERADO\n",
    "#Variáveis: [(3, 4), (4, 3), (4, 5), (5, 5)]\n",
    "#Domínios: {(3, 4): [(3, 1), (4, 1), (4, 2), (5, 3)], (4, 3): [(3, 1), (4, 1), (4, 2), (5, 3)], (4, 5): [(3, 1), (4, 1), (4, 2), (5, 3)], (5, 5): [(3, 1), (4, 1), (4, 2), (5, 3)]}\n",
    "#Vizinhos: {(3, 4): [(4, 3), (4, 5), (5, 5)], (4, 3): [(3, 4), (4, 5), (5, 5)], (4, 5): [(3, 4), (4, 3), (5, 5)], (5, 5): [(3, 4), (4, 3), (4, 5)]}\n",
    "#Restrição obedecida? False\n",
    "#Restrição obedecida? True\n"
   ]
  },
  {
   "cell_type": "code",
   "execution_count": 40,
   "metadata": {},
   "outputs": [
    {
     "name": "stdout",
     "output_type": "stream",
     "text": [
      "{(3, 4): (4, 2), (4, 3): (5, 3), (4, 5): (3, 1), (5, 5): (4, 1)}\n"
     ]
    }
   ],
   "source": [
    "## TESTE 2\n",
    "from sokoban_aval4 import *\n",
    "\n",
    "linha1= \"    ####\\n\"\n",
    "linha2= \"  ##...#\\n\"\n",
    "linha3= \"###....#\\n\"\n",
    "linha4= \"#o..$#@#\\n\"\n",
    "linha5= \"#oo$.$.#\\n\"\n",
    "linha6= \"###o.$.#\\n\"\n",
    "linha7= \"  ###..#\\n\"\n",
    "linha8= \"    ####\\n\"\n",
    "mundoS=linha1+linha2+linha3+linha4+linha5+linha6+linha7+linha8\n",
    "\n",
    "alcancaveis={(1, 4): [], (1, 5): [], (1, 6): [], (2, 3): [], (2, 4): [(3, 1), (4, 1), (4, 2), (5, 3)], (2, 5): [(3, 1), (4, 1), (4, 2), (5, 3)], (2, 6): [], (3, 1): [(3, 1)], (3, 2): [(3, 1), (4, 1), (4, 2), (5, 3)], (3, 3): [(3, 1), (4, 1), (4, 2), (5, 3)], (3, 4): [(3, 1), (4, 1), (4, 2), (5, 3)], (3, 6): [], (4, 1): [(4, 1)], (4, 2): [(3, 1), (4, 1), (4, 2), (5, 3)], (4, 3): [(3, 1), (4, 1), (4, 2), (5, 3)], (4, 4): [(3, 1), (4, 1), (4, 2), (5, 3)], (4, 5): [(3, 1), (4, 1), (4, 2), (5, 3)], (4, 6): [], (5, 3): [(5, 3)], (5, 4): [(3, 1), (4, 1), (4, 2), (5, 3)], (5, 5): [(3, 1), (4, 1), (4, 2), (5, 3)], (5, 6): [], (6, 5): [], (6, 6): []}\n",
    "\n",
    "s = Sokoban(situacaoInicial=mundoS)\n",
    "caixas = s.initial['caixas']\n",
    "result = possivel_solucao(caixas,alcancaveis) # <--- usa a vossa função csp_possivel_solucao\n",
    "if result != None:\n",
    "    result = dict(sorted(result.items()))\n",
    "print(result)\n",
    "\n",
    "\n",
    "# RESULTADO ESPERADO\n",
    "#{(3, 4): (4, 2), (4, 3): (5, 3), (4, 5): (3, 1), (5, 5): (4, 1)}\n",
    "#"
   ]
  },
  {
   "cell_type": "code",
   "execution_count": 41,
   "metadata": {},
   "outputs": [
    {
     "name": "stdout",
     "output_type": "stream",
     "text": [
      "None\n"
     ]
    }
   ],
   "source": [
    "## TESTE 3\n",
    "from sokoban_aval4 import *\n",
    "\n",
    "linha1= \"    ####\\n\"\n",
    "linha2= \"  ##...#\\n\"\n",
    "linha3= \"###....#\\n\"\n",
    "linha4= \"#o..$#@#\\n\"\n",
    "linha5= \"#oo$.$.#\\n\"\n",
    "linha6= \"###o...#\\n\"\n",
    "linha7= \"  ###$.#\\n\"\n",
    "linha8= \"    ####\\n\"\n",
    "mundoS=linha1+linha2+linha3+linha4+linha5+linha6+linha7+linha8\n",
    "\n",
    "alcancaveis={(1, 4): [], (1, 5): [], (1, 6): [], (2, 3): [], (2, 4): [(3, 1), (4, 1), (4, 2), (5, 3)], (2, 5): [(3, 1), (4, 1), (4, 2), (5, 3)], (2, 6): [], (3, 1): [(3, 1)], (3, 2): [(3, 1), (4, 1), (4, 2), (5, 3)], (3, 3): [(3, 1), (4, 1), (4, 2), (5, 3)], (3, 4): [(3, 1), (4, 1), (4, 2), (5, 3)], (3, 6): [], (4, 1): [(4, 1)], (4, 2): [(3, 1), (4, 1), (4, 2), (5, 3)], (4, 3): [(3, 1), (4, 1), (4, 2), (5, 3)], (4, 4): [(3, 1), (4, 1), (4, 2), (5, 3)], (4, 5): [(3, 1), (4, 1), (4, 2), (5, 3)], (4, 6): [], (5, 3): [(5, 3)], (5, 4): [(3, 1), (4, 1), (4, 2), (5, 3)], (5, 5): [(3, 1), (4, 1), (4, 2), (5, 3)], (5, 6): [], (6, 5): [], (6, 6): []}\n",
    "\n",
    "s = Sokoban(situacaoInicial=mundoS)\n",
    "caixas = s.initial['caixas']\n",
    "result = possivel_solucao(caixas,alcancaveis) # <--- usa a vossa função csp_possivel_solucao\n",
    "if result != None:\n",
    "    result = dict(sorted(result.items()))\n",
    "print(result)\n",
    "\n",
    "# RESULTADO ESPERADO\n",
    "# None"
   ]
  },
  {
   "cell_type": "markdown",
   "metadata": {},
   "source": [
    "## Função `csp_find_alcancaveis_1goal`"
   ]
  },
  {
   "cell_type": "code",
   "execution_count": 42,
   "metadata": {},
   "outputs": [],
   "source": [
    "from csp_v3 import *\n",
    "from sokoban_aval4 import *\n",
    "\n",
    "def csp_find_alcancaveis_1goal(s, goal):\n",
    "    caixas = s.initial['caixas']\n",
    "    variables = list(s.navegaveis)\n",
    "    domains = {var: [0, 1] for var in variables}\n",
    "    neighbors = {var1: [var2 for var2 in variables if var1 != var2 and eh_vizinho(var1, var2, s, caixas)] for var1 in variables}\n",
    "\n",
    "    print(f\"Variables: {variables}\")\n",
    "    print(f\"Domains: {domains}\")\n",
    "    print(f\"Neighbors: {neighbors}\")\n",
    "\n",
    "    def constraints(var1, a, var2, b):\n",
    "        if var2 not in neighbors[var1]:\n",
    "            return True\n",
    "        if a == 1 and b == 0:\n",
    "            print(f\"Constraint failed: {var1}={a} and {var2}={b}\")\n",
    "            return False\n",
    "        if b == 1 and a == 0:\n",
    "            print(f\"Constraint failed: {var1}={a} and {var2}={b}\")\n",
    "            return False\n",
    "        return True\n",
    "\n",
    "    return CSP(variables, domains, neighbors, constraints)\n",
    "\n",
    "def eh_vizinho(celula1, celula2, s, caixas):\n",
    "    diff_linha = celula2[0] - celula1[0]\n",
    "    diff_coluna = celula2[1] - celula1[1]\n",
    "    deltas = diff_linha, diff_coluna\n",
    "\n",
    "    if s.possible(s.initial['sokoban'], caixas, deltas) and (abs(diff_linha) + abs(diff_coluna) == 1):\n",
    "        print(f\"{celula1} and {celula2} are neighbors\")\n",
    "        return True\n",
    "\n",
    "    return False\n",
    "def find_alcancaveis_1goal(s, goal):\n",
    "    csp_sokoban2 = csp_find_alcancaveis_1goal(s,goal) # <--- a vossa função csp_find_alcancaveis_1goal\n",
    "    r = backtracking_search(csp_sokoban2, order_domain_values = number_ascending_order, inference = forward_checking)\n",
    "    return {} if r == None else r"
   ]
  },
  {
   "cell_type": "markdown",
   "metadata": {},
   "source": [
    "### TESTES"
   ]
  },
  {
   "cell_type": "code",
   "execution_count": 43,
   "metadata": {},
   "outputs": [
    {
     "name": "stdout",
     "output_type": "stream",
     "text": [
      "(1, 2) and (1, 1) are neighbors\n",
      "(1, 2) and (2, 2) are neighbors\n",
      "(1, 2) and (1, 3) are neighbors\n",
      "(2, 1) and (3, 1) are neighbors\n",
      "(2, 1) and (1, 1) are neighbors\n",
      "(2, 1) and (2, 2) are neighbors\n",
      "(4, 1) and (3, 1) are neighbors\n",
      "(4, 1) and (4, 2) are neighbors\n",
      "(3, 1) and (2, 1) are neighbors\n",
      "(3, 1) and (4, 1) are neighbors\n",
      "(3, 1) and (3, 2) are neighbors\n",
      "(4, 3) and (4, 2) are neighbors\n",
      "(4, 3) and (3, 3) are neighbors\n",
      "(1, 1) and (1, 2) are neighbors\n",
      "(1, 1) and (2, 1) are neighbors\n",
      "(4, 2) and (4, 1) are neighbors\n",
      "(4, 2) and (4, 3) are neighbors\n",
      "(4, 2) and (3, 2) are neighbors\n",
      "(2, 3) and (3, 3) are neighbors\n",
      "(2, 3) and (2, 2) are neighbors\n",
      "(2, 3) and (1, 3) are neighbors\n",
      "(3, 3) and (4, 3) are neighbors\n",
      "(3, 3) and (2, 3) are neighbors\n",
      "(3, 3) and (3, 2) are neighbors\n",
      "(2, 2) and (1, 2) are neighbors\n",
      "(2, 2) and (2, 1) are neighbors\n",
      "(2, 2) and (2, 3) are neighbors\n",
      "(2, 2) and (3, 2) are neighbors\n",
      "(3, 2) and (3, 1) are neighbors\n",
      "(3, 2) and (4, 2) are neighbors\n",
      "(3, 2) and (3, 3) are neighbors\n",
      "(3, 2) and (2, 2) are neighbors\n",
      "(1, 3) and (1, 2) are neighbors\n",
      "(1, 3) and (2, 3) are neighbors\n",
      "Variables: [(1, 2), (2, 1), (4, 1), (3, 1), (4, 3), (1, 1), (4, 2), (2, 3), (3, 3), (2, 2), (3, 2), (1, 3)]\n",
      "Domains: {(1, 2): [0, 1], (2, 1): [0, 1], (4, 1): [0, 1], (3, 1): [0, 1], (4, 3): [0, 1], (1, 1): [0, 1], (4, 2): [0, 1], (2, 3): [0, 1], (3, 3): [0, 1], (2, 2): [0, 1], (3, 2): [0, 1], (1, 3): [0, 1]}\n",
      "Neighbors: {(1, 2): [(1, 1), (2, 2), (1, 3)], (2, 1): [(3, 1), (1, 1), (2, 2)], (4, 1): [(3, 1), (4, 2)], (3, 1): [(2, 1), (4, 1), (3, 2)], (4, 3): [(4, 2), (3, 3)], (1, 1): [(1, 2), (2, 1)], (4, 2): [(4, 1), (4, 3), (3, 2)], (2, 3): [(3, 3), (2, 2), (1, 3)], (3, 3): [(4, 3), (2, 3), (3, 2)], (2, 2): [(1, 2), (2, 1), (2, 3), (3, 2)], (3, 2): [(3, 1), (4, 2), (3, 3), (2, 2)], (1, 3): [(1, 2), (2, 3)]}\n",
      "Constraint failed: (1, 2)=0 and (1, 1)=1\n",
      "Constraint failed: (1, 2)=0 and (2, 2)=1\n",
      "Constraint failed: (1, 2)=0 and (1, 3)=1\n",
      "Constraint failed: (2, 1)=0 and (3, 1)=1\n",
      "Constraint failed: (4, 1)=0 and (4, 2)=1\n",
      "Constraint failed: (3, 1)=0 and (3, 2)=1\n",
      "Constraint failed: (4, 3)=0 and (3, 3)=1\n",
      "{(1, 1): 0, (1, 2): 0, (1, 3): 0, (2, 1): 0, (2, 2): 0, (2, 3): 0, (3, 1): 0, (3, 2): 0, (3, 3): 0, (4, 1): 0, (4, 2): 0, (4, 3): 0}\n"
     ]
    }
   ],
   "source": [
    "from sokoban_aval4 import *\n",
    "\n",
    "linha1= \"#####\\n\"\n",
    "linha2= \"#...#\\n\"\n",
    "linha3= \"#.@.#\\n\"\n",
    "linha4= \"#.$.#\\n\"\n",
    "linha5= \"#.o.#\\n\"\n",
    "linha6= \"#####\\n\"\n",
    "mundoS=linha1+linha2+linha3+linha4+linha5+linha6\n",
    "\n",
    "s = Sokoban(situacaoInicial=mundoS)\n",
    "result = find_alcancaveis_1goal(s,(4,2)) # <--- usa a vossa função csp_find_alcancaveis_1goal\n",
    "result = dict(sorted(result.items()))\n",
    "print(result)\n",
    "# Mais uma vez, só funciona quando completarem a função `csp_find_alcancaveis_1goal`. O resultado da célula anterior deve ser:\n",
    "# {(1, 1): 0, (1, 2): 0, (1, 3): 0, (2, 1): 0, (2, 2): 1, (2, 3): 0, (3, 1): 0, (3, 2): 1, (3, 3): 0, (4, 1): 0, (4, 2): 1, (4, 3): 0}\n"
   ]
  }
 ],
 "metadata": {
  "colab": {
   "collapsed_sections": [],
   "name": "Untitled0.ipynb",
   "provenance": [],
   "version": "0.3.2"
  },
  "kernelspec": {
   "display_name": "base",
   "language": "python",
   "name": "python3"
  },
  "language_info": {
   "codemirror_mode": {
    "name": "ipython",
    "version": 3
   },
   "file_extension": ".py",
   "mimetype": "text/x-python",
   "name": "python",
   "nbconvert_exporter": "python",
   "pygments_lexer": "ipython3",
   "version": "3.11.7"
  }
 },
 "nbformat": 4,
 "nbformat_minor": 2
}
