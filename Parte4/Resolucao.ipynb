{
 "cells": [
  {
   "cell_type": "markdown",
   "metadata": {},
   "source": [
    "## Função `csp_possivel_solucao`"
   ]
  },
  {
   "cell_type": "code",
   "execution_count": 1,
   "metadata": {},
   "outputs": [],
   "source": [
    "from csp_v3 import *\n",
    "\n",
    "'''\n",
    "Para implementarem a vossa função **`csp_possivel_solucao`**, devem formular o problema como um CSP. A função recebe como input exatamente o mesmo que a função `possivel_solucao` e\n",
    "deve retornar como output uma instância de um problema CSP. Notem que o problema pode ser visto como um problema de coloração de mapas em que:\n",
    "\n",
    "- As células são as variáveis (as regiões num mapa);\n",
    "- Os domínios são dados pela lista de goals alcançáveis pelas respectivas células (as cores para colorir o mapa);\n",
    "- Duas células são vizinhas se partilharem algum dos goals (se forem regiões contíguas);\n",
    "- Duas células vizinhas não podem ter o mesmo valor (duas regiões contíguas não podem ter a mesma cor).\n",
    "\n",
    "Lembrem-se que ambos os inputs são dados, i.e., as caixas e a atribuição de células a listas de goals (os goals alcançáveis).\n",
    "'''\n",
    "def csp_possivel_solucao(caixas, goals_alcancaveis):\n",
    "    variables = list(caixas)\n",
    "    domains = {var: goals_alcancaveis[var] for var in variables}\n",
    "    neighbors = {var: [var2 for var2 in variables if var != var2 and set(goals_alcancaveis[var]).intersection(goals_alcancaveis[var2]) and goals_alcancaveis[var2]] for var in variables}\n",
    "    for var in variables:\n",
    "        if neighbors[var] == []:\n",
    "            neighbors.pop(var)\n",
    "\n",
    "    def constraints(var1, a, var2, b):\n",
    "        return a != b\n",
    "\n",
    "    return CSP(variables, domains, neighbors, constraints)\n",
    "\n",
    "def possivel_solucao(caixas,goals_alcancaveis):\n",
    "    csp_sokoban1 = csp_possivel_solucao(caixas,goals_alcancaveis) # <--- a vossa função csp_possivel_solucao\n",
    "    r = backtracking_search(csp_sokoban1, inference = forward_checking)\n",
    "    return r"
   ]
  },
  {
   "cell_type": "markdown",
   "metadata": {},
   "source": [
    "### TESTES"
   ]
  },
  {
   "cell_type": "code",
   "execution_count": 2,
   "metadata": {},
   "outputs": [
    {
     "name": "stdout",
     "output_type": "stream",
     "text": [
      "{}\n"
     ]
    }
   ],
   "source": [
    "from sokoban_aval4 import *\n",
    "\n",
    "linha1= \"#####\\n\"\n",
    "linha2= \"#..o#\\n\"\n",
    "linha3= \"#.@.#\\n\"\n",
    "linha4= \"#.$.#\\n\"\n",
    "linha5= \"#...#\\n\"\n",
    "linha6= \"#####\\n\"\n",
    "mundoS=linha1+linha2+linha3+linha4+linha5+linha6\n",
    "\n",
    "alcancaveis={(1, 2): [(1, 3)], (2, 1): [], (4, 1): [], (3, 1): [], (4, 3): [], (1, 1): [], (4, 2): [], (2, 3): [(1, 3)], (3, 3): [(1, 3)], (2, 2): [(1, 3)], (3, 2): [(1, 3)], (1, 3): [(1, 3)]}\n",
    "\n",
    "s = Sokoban(situacaoInicial=mundoS)\n",
    "caixas = s.initial['caixas']\n",
    "csp_sokoban1 = csp_possivel_solucao(caixas,alcancaveis)\n",
    "\n",
    "try:\n",
    "    sorted_neighbors = {key: sorted(values) for key, values in sorted(csp_sokoban1.neighbors.items())}\n",
    "    print(dict(sorted(sorted_neighbors.items())))\n",
    "except Exception as e:\n",
    "    print(repr(e))\n",
    "#RESULTADO ESPERADO\n",
    "# {}"
   ]
  },
  {
   "cell_type": "code",
   "execution_count": 3,
   "metadata": {},
   "outputs": [
    {
     "name": "stdout",
     "output_type": "stream",
     "text": [
      "Variáveis: [(3, 4), (4, 3), (4, 5), (5, 5)]\n",
      "Domínios: {(3, 4): [(3, 1), (4, 1), (4, 2), (5, 3)], (4, 3): [(3, 1), (4, 1), (4, 2), (5, 3)], (4, 5): [(3, 1), (4, 1), (4, 2), (5, 3)], (5, 5): [(3, 1), (4, 1), (4, 2), (5, 3)]}\n",
      "Vizinhos: {(3, 4): [(4, 3), (4, 5), (5, 5)], (4, 3): [(3, 4), (4, 5), (5, 5)], (4, 5): [(3, 4), (4, 3), (5, 5)], (5, 5): [(3, 4), (4, 3), (4, 5)]}\n",
      "Restrição obedecida? False\n",
      "Restrição obedecida? True\n"
     ]
    }
   ],
   "source": [
    "## TESTE 1\n",
    "from sokoban_aval4 import *\n",
    "linha1= \"    ####\\n\"\n",
    "linha2= \"  ##...#\\n\"\n",
    "linha3= \"###....#\\n\"\n",
    "linha4= \"#o..$#@#\\n\"\n",
    "linha5= \"#oo$.$.#\\n\"\n",
    "linha6= \"###o.$.#\\n\"\n",
    "linha7= \"  ###..#\\n\"\n",
    "linha8= \"    ####\\n\"\n",
    "mundoS=linha1+linha2+linha3+linha4+linha5+linha6+linha7+linha8\n",
    "\n",
    "alcancaveis={(1, 4): [], (1, 5): [], (1, 6): [], (2, 3): [], (2, 4): [(3, 1), (4, 1), (4, 2), (5, 3)], (2, 5): [(3, 1), (4, 1), (4, 2), (5, 3)], (2, 6): [], (3, 1): [(3, 1)], (3, 2): [(3, 1), (4, 1), (4, 2), (5, 3)], (3, 3): [(3, 1), (4, 1), (4, 2), (5, 3)], (3, 4): [(3, 1), (4, 1), (4, 2), (5, 3)], (3, 6): [], (4, 1): [(4, 1)], (4, 2): [(3, 1), (4, 1), (4, 2), (5, 3)], (4, 3): [(3, 1), (4, 1), (4, 2), (5, 3)], (4, 4): [(3, 1), (4, 1), (4, 2), (5, 3)], (4, 5): [(3, 1), (4, 1), (4, 2), (5, 3)], (4, 6): [], (5, 3): [(5, 3)], (5, 4): [(3, 1), (4, 1), (4, 2), (5, 3)], (5, 5): [(3, 1), (4, 1), (4, 2), (5, 3)], (5, 6): [], (6, 5): [], (6, 6): []}\n",
    "\n",
    "s = Sokoban(situacaoInicial=mundoS)\n",
    "caixas = s.initial['caixas']\n",
    "csp_sokoban1 = csp_possivel_solucao(caixas,alcancaveis)\n",
    "\n",
    "print('Variáveis:',sorted(csp_sokoban1.variables))\n",
    "print('Domínios:',dict(sorted(csp_sokoban1.domains.items())))\n",
    "sorted_neighbors = {key: sorted(values) for key, values in sorted(csp_sokoban1.neighbors.items())}\n",
    "print('Vizinhos:',dict(sorted(sorted_neighbors.items())))\n",
    "print('Restrição obedecida?',csp_sokoban1.constraints((3,4),(3,1),(4,3),(3,1)))\n",
    "print('Restrição obedecida?',csp_sokoban1.constraints((3,4),(3,1),(4,3),(4,1)))\n",
    "\n",
    "#RESULTADO ESPERADO\n",
    "#Variáveis: [(3, 4), (4, 3), (4, 5), (5, 5)]\n",
    "#Domínios: {(3, 4): [(3, 1), (4, 1), (4, 2), (5, 3)], (4, 3): [(3, 1), (4, 1), (4, 2), (5, 3)], (4, 5): [(3, 1), (4, 1), (4, 2), (5, 3)], (5, 5): [(3, 1), (4, 1), (4, 2), (5, 3)]}\n",
    "#Vizinhos: {(3, 4): [(4, 3), (4, 5), (5, 5)], (4, 3): [(3, 4), (4, 5), (5, 5)], (4, 5): [(3, 4), (4, 3), (5, 5)], (5, 5): [(3, 4), (4, 3), (4, 5)]}\n",
    "#Restrição obedecida? False\n",
    "#Restrição obedecida? True\n"
   ]
  },
  {
   "cell_type": "code",
   "execution_count": 4,
   "metadata": {},
   "outputs": [
    {
     "name": "stdout",
     "output_type": "stream",
     "text": [
      "{(3, 4): (4, 2), (4, 3): (5, 3), (4, 5): (3, 1), (5, 5): (4, 1)}\n"
     ]
    }
   ],
   "source": [
    "## TESTE 2\n",
    "from sokoban_aval4 import *\n",
    "\n",
    "linha1= \"    ####\\n\"\n",
    "linha2= \"  ##...#\\n\"\n",
    "linha3= \"###....#\\n\"\n",
    "linha4= \"#o..$#@#\\n\"\n",
    "linha5= \"#oo$.$.#\\n\"\n",
    "linha6= \"###o.$.#\\n\"\n",
    "linha7= \"  ###..#\\n\"\n",
    "linha8= \"    ####\\n\"\n",
    "mundoS=linha1+linha2+linha3+linha4+linha5+linha6+linha7+linha8\n",
    "\n",
    "alcancaveis={(1, 4): [], (1, 5): [], (1, 6): [], (2, 3): [], (2, 4): [(3, 1), (4, 1), (4, 2), (5, 3)], (2, 5): [(3, 1), (4, 1), (4, 2), (5, 3)], (2, 6): [], (3, 1): [(3, 1)], (3, 2): [(3, 1), (4, 1), (4, 2), (5, 3)], (3, 3): [(3, 1), (4, 1), (4, 2), (5, 3)], (3, 4): [(3, 1), (4, 1), (4, 2), (5, 3)], (3, 6): [], (4, 1): [(4, 1)], (4, 2): [(3, 1), (4, 1), (4, 2), (5, 3)], (4, 3): [(3, 1), (4, 1), (4, 2), (5, 3)], (4, 4): [(3, 1), (4, 1), (4, 2), (5, 3)], (4, 5): [(3, 1), (4, 1), (4, 2), (5, 3)], (4, 6): [], (5, 3): [(5, 3)], (5, 4): [(3, 1), (4, 1), (4, 2), (5, 3)], (5, 5): [(3, 1), (4, 1), (4, 2), (5, 3)], (5, 6): [], (6, 5): [], (6, 6): []}\n",
    "\n",
    "s = Sokoban(situacaoInicial=mundoS)\n",
    "caixas = s.initial['caixas']\n",
    "result = possivel_solucao(caixas,alcancaveis) # <--- usa a vossa função csp_possivel_solucao\n",
    "if result != None:\n",
    "    result = dict(sorted(result.items()))\n",
    "print(result)\n",
    "\n",
    "\n",
    "# RESULTADO ESPERADO\n",
    "#{(3, 4): (4, 2), (4, 3): (5, 3), (4, 5): (3, 1), (5, 5): (4, 1)}\n",
    "#"
   ]
  },
  {
   "cell_type": "code",
   "execution_count": 5,
   "metadata": {},
   "outputs": [
    {
     "name": "stdout",
     "output_type": "stream",
     "text": [
      "None\n"
     ]
    }
   ],
   "source": [
    "## TESTE 3\n",
    "from sokoban_aval4 import *\n",
    "\n",
    "linha1= \"    ####\\n\"\n",
    "linha2= \"  ##...#\\n\"\n",
    "linha3= \"###....#\\n\"\n",
    "linha4= \"#o..$#@#\\n\"\n",
    "linha5= \"#oo$.$.#\\n\"\n",
    "linha6= \"###o...#\\n\"\n",
    "linha7= \"  ###$.#\\n\"\n",
    "linha8= \"    ####\\n\"\n",
    "mundoS=linha1+linha2+linha3+linha4+linha5+linha6+linha7+linha8\n",
    "\n",
    "alcancaveis={(1, 4): [], (1, 5): [], (1, 6): [], (2, 3): [], (2, 4): [(3, 1), (4, 1), (4, 2), (5, 3)], (2, 5): [(3, 1), (4, 1), (4, 2), (5, 3)], (2, 6): [], (3, 1): [(3, 1)], (3, 2): [(3, 1), (4, 1), (4, 2), (5, 3)], (3, 3): [(3, 1), (4, 1), (4, 2), (5, 3)], (3, 4): [(3, 1), (4, 1), (4, 2), (5, 3)], (3, 6): [], (4, 1): [(4, 1)], (4, 2): [(3, 1), (4, 1), (4, 2), (5, 3)], (4, 3): [(3, 1), (4, 1), (4, 2), (5, 3)], (4, 4): [(3, 1), (4, 1), (4, 2), (5, 3)], (4, 5): [(3, 1), (4, 1), (4, 2), (5, 3)], (4, 6): [], (5, 3): [(5, 3)], (5, 4): [(3, 1), (4, 1), (4, 2), (5, 3)], (5, 5): [(3, 1), (4, 1), (4, 2), (5, 3)], (5, 6): [], (6, 5): [], (6, 6): []}\n",
    "\n",
    "s = Sokoban(situacaoInicial=mundoS)\n",
    "caixas = s.initial['caixas']\n",
    "result = possivel_solucao(caixas,alcancaveis) # <--- usa a vossa função csp_possivel_solucao\n",
    "if result != None:\n",
    "    result = dict(sorted(result.items()))\n",
    "print(result)\n",
    "\n",
    "# RESULTADO ESPERADO\n",
    "# None"
   ]
  },
  {
   "cell_type": "markdown",
   "metadata": {},
   "source": [
    "## Função `csp_find_alcancaveis_1goal`"
   ]
  },
  {
   "cell_type": "code",
   "execution_count": 6,
   "metadata": {},
   "outputs": [],
   "source": [
    "from csp_v3 import *\n",
    "from sokoban_aval4 import *\n",
    "\n",
    "def csp_find_alcancaveis_1goal(s,goal):\n",
    "    caixas = s.initial['caixas']\n",
    "    variables = list(s.navegaveis)\n",
    "    domains = {var: [0, 1] for var in variables}\n",
    "    neighbors = {var1: [var2 for var2 in variables if var1 != var2 and eh_vizinho(var1, var2,s)] for var1 in variables}\n",
    "    \n",
    "    def constraints(var1, a, var2, b):\n",
    "        if var2 not in neighbors[var1]:\n",
    "            return True\n",
    "\n",
    "        if a == 1 and b == 0:\n",
    "            return False\n",
    "\n",
    "        if b == 1 and a == 0:\n",
    "            return False\n",
    "\n",
    "        return True\n",
    "    \n",
    "    return CSP(variables, domains, neighbors, constraints)\n",
    "   \n",
    "def eh_vizinho(celula1, celula2,s):\n",
    "    diff_linha = celula2[0] - celula1[0]\n",
    "    diff_coluna = celula2[1] - celula1[1]\n",
    "    deltas = diff_linha, diff_coluna\n",
    "\n",
    "    if s.possible(s,caixas,deltas) and (abs(diff_linha) + abs(diff_coluna) == 1):\n",
    "        return True\n",
    "    \n",
    "    return False \n",
    "\n",
    "def find_alcancaveis_1goal(s, goal):\n",
    "    csp_sokoban2 = csp_find_alcancaveis_1goal(s,goal) # <--- a vossa função csp_find_alcancaveis_1goal\n",
    "    r = backtracking_search(csp_sokoban2, order_domain_values = number_ascending_order, inference = forward_checking)\n",
    "    return {} if r == None else r"
   ]
  },
  {
   "cell_type": "markdown",
   "metadata": {},
   "source": [
    "### TESTES"
   ]
  },
  {
   "cell_type": "code",
   "execution_count": 7,
   "metadata": {},
   "outputs": [
    {
     "ename": "TypeError",
     "evalue": "cannot unpack non-iterable Sokoban object",
     "output_type": "error",
     "traceback": [
      "\u001b[1;31m---------------------------------------------------------------------------\u001b[0m",
      "\u001b[1;31mTypeError\u001b[0m                                 Traceback (most recent call last)",
      "Cell \u001b[1;32mIn[7], line 12\u001b[0m\n\u001b[0;32m      9\u001b[0m mundoS\u001b[38;5;241m=\u001b[39mlinha1\u001b[38;5;241m+\u001b[39mlinha2\u001b[38;5;241m+\u001b[39mlinha3\u001b[38;5;241m+\u001b[39mlinha4\u001b[38;5;241m+\u001b[39mlinha5\u001b[38;5;241m+\u001b[39mlinha6\n\u001b[0;32m     11\u001b[0m s \u001b[38;5;241m=\u001b[39m Sokoban(situacaoInicial\u001b[38;5;241m=\u001b[39mmundoS)\n\u001b[1;32m---> 12\u001b[0m result \u001b[38;5;241m=\u001b[39m find_alcancaveis_1goal(s,(\u001b[38;5;241m4\u001b[39m,\u001b[38;5;241m2\u001b[39m)) \u001b[38;5;66;03m# <--- usa a vossa função csp_find_alcancaveis_1goal\u001b[39;00m\n\u001b[0;32m     13\u001b[0m result \u001b[38;5;241m=\u001b[39m \u001b[38;5;28mdict\u001b[39m(\u001b[38;5;28msorted\u001b[39m(result\u001b[38;5;241m.\u001b[39mitems()))\n\u001b[0;32m     14\u001b[0m \u001b[38;5;28mprint\u001b[39m(result)\n",
      "Cell \u001b[1;32mIn[6], line 35\u001b[0m, in \u001b[0;36mfind_alcancaveis_1goal\u001b[1;34m(s, goal)\u001b[0m\n\u001b[0;32m     34\u001b[0m \u001b[38;5;28;01mdef\u001b[39;00m \u001b[38;5;21mfind_alcancaveis_1goal\u001b[39m(s, goal):\n\u001b[1;32m---> 35\u001b[0m     csp_sokoban2 \u001b[38;5;241m=\u001b[39m csp_find_alcancaveis_1goal(s,goal) \u001b[38;5;66;03m# <--- a vossa função csp_find_alcancaveis_1goal\u001b[39;00m\n\u001b[0;32m     36\u001b[0m     r \u001b[38;5;241m=\u001b[39m backtracking_search(csp_sokoban2, order_domain_values \u001b[38;5;241m=\u001b[39m number_ascending_order, inference \u001b[38;5;241m=\u001b[39m forward_checking)\n\u001b[0;32m     37\u001b[0m     \u001b[38;5;28;01mreturn\u001b[39;00m {} \u001b[38;5;28;01mif\u001b[39;00m r \u001b[38;5;241m==\u001b[39m \u001b[38;5;28;01mNone\u001b[39;00m \u001b[38;5;28;01melse\u001b[39;00m r\n",
      "Cell \u001b[1;32mIn[6], line 8\u001b[0m, in \u001b[0;36mcsp_find_alcancaveis_1goal\u001b[1;34m(s, goal)\u001b[0m\n\u001b[0;32m      6\u001b[0m variables \u001b[38;5;241m=\u001b[39m \u001b[38;5;28mlist\u001b[39m(s\u001b[38;5;241m.\u001b[39mnavegaveis)\n\u001b[0;32m      7\u001b[0m domains \u001b[38;5;241m=\u001b[39m {var: [\u001b[38;5;241m0\u001b[39m, \u001b[38;5;241m1\u001b[39m] \u001b[38;5;28;01mfor\u001b[39;00m var \u001b[38;5;129;01min\u001b[39;00m variables}\n\u001b[1;32m----> 8\u001b[0m neighbors \u001b[38;5;241m=\u001b[39m {var1: [var2 \u001b[38;5;28;01mfor\u001b[39;00m var2 \u001b[38;5;129;01min\u001b[39;00m variables \u001b[38;5;28;01mif\u001b[39;00m var1 \u001b[38;5;241m!=\u001b[39m var2 \u001b[38;5;129;01mand\u001b[39;00m eh_vizinho(var1, var2,s)] \u001b[38;5;28;01mfor\u001b[39;00m var1 \u001b[38;5;129;01min\u001b[39;00m variables}\n\u001b[0;32m     10\u001b[0m \u001b[38;5;28;01mdef\u001b[39;00m \u001b[38;5;21mconstraints\u001b[39m(var1, a, var2, b):\n\u001b[0;32m     11\u001b[0m     \u001b[38;5;28;01mif\u001b[39;00m var2 \u001b[38;5;129;01mnot\u001b[39;00m \u001b[38;5;129;01min\u001b[39;00m neighbors[var1]:\n",
      "Cell \u001b[1;32mIn[6], line 8\u001b[0m, in \u001b[0;36m<dictcomp>\u001b[1;34m(.0)\u001b[0m\n\u001b[0;32m      6\u001b[0m variables \u001b[38;5;241m=\u001b[39m \u001b[38;5;28mlist\u001b[39m(s\u001b[38;5;241m.\u001b[39mnavegaveis)\n\u001b[0;32m      7\u001b[0m domains \u001b[38;5;241m=\u001b[39m {var: [\u001b[38;5;241m0\u001b[39m, \u001b[38;5;241m1\u001b[39m] \u001b[38;5;28;01mfor\u001b[39;00m var \u001b[38;5;129;01min\u001b[39;00m variables}\n\u001b[1;32m----> 8\u001b[0m neighbors \u001b[38;5;241m=\u001b[39m {var1: [var2 \u001b[38;5;28;01mfor\u001b[39;00m var2 \u001b[38;5;129;01min\u001b[39;00m variables \u001b[38;5;28;01mif\u001b[39;00m var1 \u001b[38;5;241m!=\u001b[39m var2 \u001b[38;5;129;01mand\u001b[39;00m eh_vizinho(var1, var2,s)] \u001b[38;5;28;01mfor\u001b[39;00m var1 \u001b[38;5;129;01min\u001b[39;00m variables}\n\u001b[0;32m     10\u001b[0m \u001b[38;5;28;01mdef\u001b[39;00m \u001b[38;5;21mconstraints\u001b[39m(var1, a, var2, b):\n\u001b[0;32m     11\u001b[0m     \u001b[38;5;28;01mif\u001b[39;00m var2 \u001b[38;5;129;01mnot\u001b[39;00m \u001b[38;5;129;01min\u001b[39;00m neighbors[var1]:\n",
      "Cell \u001b[1;32mIn[6], line 8\u001b[0m, in \u001b[0;36m<listcomp>\u001b[1;34m(.0)\u001b[0m\n\u001b[0;32m      6\u001b[0m variables \u001b[38;5;241m=\u001b[39m \u001b[38;5;28mlist\u001b[39m(s\u001b[38;5;241m.\u001b[39mnavegaveis)\n\u001b[0;32m      7\u001b[0m domains \u001b[38;5;241m=\u001b[39m {var: [\u001b[38;5;241m0\u001b[39m, \u001b[38;5;241m1\u001b[39m] \u001b[38;5;28;01mfor\u001b[39;00m var \u001b[38;5;129;01min\u001b[39;00m variables}\n\u001b[1;32m----> 8\u001b[0m neighbors \u001b[38;5;241m=\u001b[39m {var1: [var2 \u001b[38;5;28;01mfor\u001b[39;00m var2 \u001b[38;5;129;01min\u001b[39;00m variables \u001b[38;5;28;01mif\u001b[39;00m var1 \u001b[38;5;241m!=\u001b[39m var2 \u001b[38;5;129;01mand\u001b[39;00m eh_vizinho(var1, var2,s)] \u001b[38;5;28;01mfor\u001b[39;00m var1 \u001b[38;5;129;01min\u001b[39;00m variables}\n\u001b[0;32m     10\u001b[0m \u001b[38;5;28;01mdef\u001b[39;00m \u001b[38;5;21mconstraints\u001b[39m(var1, a, var2, b):\n\u001b[0;32m     11\u001b[0m     \u001b[38;5;28;01mif\u001b[39;00m var2 \u001b[38;5;129;01mnot\u001b[39;00m \u001b[38;5;129;01min\u001b[39;00m neighbors[var1]:\n",
      "Cell \u001b[1;32mIn[6], line 29\u001b[0m, in \u001b[0;36meh_vizinho\u001b[1;34m(celula1, celula2, s)\u001b[0m\n\u001b[0;32m     26\u001b[0m diff_coluna \u001b[38;5;241m=\u001b[39m celula2[\u001b[38;5;241m1\u001b[39m] \u001b[38;5;241m-\u001b[39m celula1[\u001b[38;5;241m1\u001b[39m]\n\u001b[0;32m     27\u001b[0m deltas \u001b[38;5;241m=\u001b[39m diff_linha, diff_coluna\n\u001b[1;32m---> 29\u001b[0m \u001b[38;5;28;01mif\u001b[39;00m s\u001b[38;5;241m.\u001b[39mpossible(s,caixas,deltas) \u001b[38;5;129;01mand\u001b[39;00m (\u001b[38;5;28mabs\u001b[39m(diff_linha) \u001b[38;5;241m+\u001b[39m \u001b[38;5;28mabs\u001b[39m(diff_coluna) \u001b[38;5;241m==\u001b[39m \u001b[38;5;241m1\u001b[39m):\n\u001b[0;32m     30\u001b[0m     \u001b[38;5;28;01mreturn\u001b[39;00m \u001b[38;5;28;01mTrue\u001b[39;00m\n\u001b[0;32m     32\u001b[0m \u001b[38;5;28;01mreturn\u001b[39;00m \u001b[38;5;28;01mFalse\u001b[39;00m\n",
      "File \u001b[1;32mc:\\Users\\Supervisor\\Desktop\\3ºLEI - FCUL\\IIA\\PROJETO-IIA-24-25\\Parte4\\sokoban_aval4.py:114\u001b[0m, in \u001b[0;36mSokoban.possible\u001b[1;34m(self, sokoban, caixas, deltas)\u001b[0m\n\u001b[0;32m    113\u001b[0m \u001b[38;5;28;01mdef\u001b[39;00m \u001b[38;5;21mpossible\u001b[39m(\u001b[38;5;28mself\u001b[39m,sokoban,caixas,deltas):\n\u001b[1;32m--> 114\u001b[0m     l,c\u001b[38;5;241m=\u001b[39msokoban\n\u001b[0;32m    115\u001b[0m     dl,dc\u001b[38;5;241m=\u001b[39mdeltas\n\u001b[0;32m    116\u001b[0m     l1,c1\u001b[38;5;241m=\u001b[39ml\u001b[38;5;241m+\u001b[39mdl,c\u001b[38;5;241m+\u001b[39mdc\n",
      "\u001b[1;31mTypeError\u001b[0m: cannot unpack non-iterable Sokoban object"
     ]
    }
   ],
   "source": [
    "from sokoban_aval4 import *\n",
    "\n",
    "linha1= \"#####\\n\"\n",
    "linha2= \"#...#\\n\"\n",
    "linha3= \"#.@.#\\n\"\n",
    "linha4= \"#.$.#\\n\"\n",
    "linha5= \"#.o.#\\n\"\n",
    "linha6= \"#####\\n\"\n",
    "mundoS=linha1+linha2+linha3+linha4+linha5+linha6\n",
    "\n",
    "s = Sokoban(situacaoInicial=mundoS)\n",
    "result = find_alcancaveis_1goal(s,(4,2)) # <--- usa a vossa função csp_find_alcancaveis_1goal\n",
    "result = dict(sorted(result.items()))\n",
    "print(result)\n",
    "# Mais uma vez, só funciona quando completarem a função `csp_find_alcancaveis_1goal`. O resultado da célula anterior deve ser:\n",
    "# {(1, 1): 0, (1, 2): 0, (1, 3): 0, (2, 1): 0, (2, 2): 1, (2, 3): 0, (3, 1): 0, (3, 2): 1, (3, 3): 0, (4, 1): 0, (4, 2): 1, (4, 3): 0}\n"
   ]
  }
 ],
 "metadata": {
  "colab": {
   "collapsed_sections": [],
   "name": "Untitled0.ipynb",
   "provenance": [],
   "version": "0.3.2"
  },
  "kernelspec": {
   "display_name": "base",
   "language": "python",
   "name": "python3"
  },
  "language_info": {
   "codemirror_mode": {
    "name": "ipython",
    "version": 3
   },
   "file_extension": ".py",
   "mimetype": "text/x-python",
   "name": "python",
   "nbconvert_exporter": "python",
   "pygments_lexer": "ipython3",
   "version": "3.11.7"
  }
 },
 "nbformat": 4,
 "nbformat_minor": 2
}
