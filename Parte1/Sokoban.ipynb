{
 "cells": [
  {
   "cell_type": "markdown",
   "metadata": {
    "colab_type": "text",
    "id": "LekFEsVbua_R"
   },
   "source": [
    "# Introdução à Inteligência Artificial, edição 2024/25, Dep. Informática FCUL\n",
    "##  Sokoban - Teste de Avaliação Contínua nº 1 (versão 2)\n",
    "### Entrega: 8 de Outubro (1m antes da meia-noite)\n",
    "\n",
    "<img src=\"Imagens\\Sokoban_japan.jpg\" alt=\"Drawing\" style=\"width: 250px;\"/>"
   ]
  },
  {
   "cell_type": "markdown",
   "metadata": {},
   "source": [
    "## Introdução\n",
    "\n",
    "Nesta avaliação contínua irão modelizar o problema do Sokoban usando o python de acordo com o paradigma do espaço de estados. \n",
    "\n",
    "\n",
    "### Recursos necessários\n",
    "Vão precisar dos módulos seguintes:\n",
    "* `searchPlus.py` - módulo principal,\n",
    "* `utils.py` - módulo auxiliar,\n",
    "\n",
    "que sao distribuídos juntamente com o enunciado."
   ]
  },
  {
   "cell_type": "markdown",
   "metadata": {},
   "source": [
    "\n",
    "## O puzzle Sokoban\n",
    "<img src=\"Imagens\\220px-Sokoban_ani.gif\" alt=\"Drawing\" style=\"width: 200px;\"/>\n",
    "\n",
    "O puzzle Sokoban é jogado tipicamente numa grelha discreta de células quadradas, onde cada célula é uma parede ou chão navegável. Algumas das células de chão contêm caixas e outras estão marcadas como lugares de armazenamento das caixas.\n",
    "\n",
    "O jogador (Sokoban) está confinado ao tabuleiro e pode movimentar-se ortogonalmente para as 4 células adjacentes, que sejam navegáveis e vazias - o Sokoban não tem super poderes, não podendo atravessar nem paredes nem caixas.\n",
    "\n",
    "O Sokoban pode também empurrar caixas que estejam ao seu lado e pode fazê-lo para células vazias adjacentes. As caixas não podem ser empurradas se ao seu lado, na orientação do movimento, estiver uma parede ou outra caixa. \n",
    "\n",
    "O número de caixas é sempre igual ao número de destinos de armazenamento. O puzzle fica resolvido quando todos os lugares de armazenamento forem ocupados por caixas."
   ]
  },
  {
   "cell_type": "markdown",
   "metadata": {},
   "source": [
    "## Sokoban em modo texto\n",
    "<img src=\"Imagens\\nevermind-big.gif\" alt=\"Drawing\" style=\"width: 200px;\"/>\n",
    "\n",
    "\n",
    "Vamos representar os puzzles Sokoban em .txt usando os símbolos seguintes:\n",
    "```python\n",
    "#   (cardinal)   Parede\n",
    "o   (ó)          Objectivo vazio\n",
    "@   (arroba)     Sokoban no chão\n",
    "+   (soma)       Sokoban num objectivo\n",
    "$   (dólar)      Caixa no chão\n",
    "*   (asterisco)  Caixa no objectivo\n",
    ".   (ponto)      Casa navegável\n",
    "```\n",
    "Por exemplo o puzzle na imagem\n",
    "<img src=\"imagens\\grandeSokoba.PNG\" alt=\"Drawing\" style=\"width: 200px;\"/> \n",
    "corresponderá ao puzzle .txt:\n",
    "```python\n",
    "\n",
    "                                               #####\n",
    "                                             ###...#\n",
    "                                             #o@$..# \n",
    "                                             ###.$o#\n",
    "                                             #o##$.#\n",
    "                                             #.#.o.##\n",
    "                                             #$.*$$o#\n",
    "                                             #...o..#\n",
    "                                             ########\n",
    "```"
   ]
  },
  {
   "cell_type": "markdown",
   "metadata": {},
   "source": [
    "## Objectivo do Projecto\n",
    "\n",
    "<img src=\"Imagens\\puzzling_none.gif\" alt=\"Drawing\" style=\"width: 300px;\"/>\n",
    "\n",
    "Modelizem qaulquer problema de Sokoban, como um problema de procura num grafo, de acordo com o Paradigma do Espaço de Estados, usando a implementação disponibilizada pelo módulo `searchPlus.py`. Devem minimizar a informação incluída no estado, formado apenas pelo que muda com as acções.\n",
    "\n",
    "Eis o esqueleto do código e da classe `Sokoban`que terão de completar. Notem que não oestão presentes os métodos `goal_test` e `path_cost`. Se acharem que terão de os implementar sobrepondo-os aos métodos herdados de `Problem`, \"be our guests\":\n",
    "```python\n",
    "from searchPlus import *\n",
    "\n",
    "linha1= \"  ##### \\n\"\n",
    "linha2= \"###...# \\n\"\n",
    "linha3= \"#o@$..# \\n\"\n",
    "linha4= \"###.$o# \\n\"\n",
    "linha5= \"#o##..# \\n\"\n",
    "linha6= \"#.#...##\\n\"\n",
    "linha7= \"#$.....#\\n\"\n",
    "linha8= \"#......#\\n\"\n",
    "linha9= \"########\\n\"\n",
    "mundoStandard=linha1+linha2+linha3+linha4+linha5+linha6+linha7+linha8+linha9\n",
    "\n",
    "\n",
    "class Sokoban(Problem):\n",
    "\n",
    "    def __init__(self, situacaoInicial=mundoStandard):\n",
    "        pass\n",
    "   \n",
    "    def actions(self, state):\n",
    "        pass\n",
    "        \n",
    "    def result(self, state, action):\n",
    "        pass\n",
    "        \n",
    "    def executa(self,state,actions):\n",
    "        \"\"\"Partindo de state, executa a sequência (lista) de acções (em actions) e devolve o último estado\"\"\"\n",
    "        nstate=state\n",
    "        for a in actions:\n",
    "            nstate=p.result(nstate,a)\n",
    "        return nstate\n",
    "    \n",
    "    def display(self, state):\n",
    "        \"\"\"Devolve a grelha em modo txt\"\"\"\n",
    "        pass\n",
    "```"
   ]
  },
  {
   "cell_type": "markdown",
   "metadata": {},
   "source": [
    "### O Construtor de Sokoban\n",
    "\n",
    "O construtor da classe principal, chamada de `Sokoban`, recebe como input informação em texto, referente ao puzzle Sokoban a resolver e tem de ser capaz de converter essa informação em dados estáticos do problema e no estado inicial bem como nos dados usados para determinar a satisfação do objectivo.\n",
    "\n",
    "Eis um exemplo da geração de um novo problema mais simples:\n",
    "\n",
    "\n",
    "```python\n",
    "linha1=\"##########\"\n",
    "linha2=\"#........#\"\n",
    "linha3=\"#..$..+..#\"\n",
    "linha4=\"#........#\"\n",
    "linha5=\"##########\"\n",
    "mundoS=linha1+linha2+linha3+linha4+linha5\n",
    "short=Sokoban(situacaoInicial=mundoS)\n",
    "```"
   ]
  },
  {
   "cell_type": "markdown",
   "metadata": {},
   "source": [
    "### Igualdade entre estados\n",
    "<img src=\"Imagens\\pato.gif\" alt=\"Drawing\" style=\"width: 200px;\"/>\n",
    "\n",
    "\n",
    "Cada grupo é livre de implementar o estado da maneira que desejar, mas lembrem-se que no estado só deve constar a informação que muda com as acções e que é importante para o sucesso dos nossos testes que dois estados exactamente com os mesmo contúdo sejam considerados iguais mesmo que sejam objectos distintos!"
   ]
  },
  {
   "cell_type": "markdown",
   "metadata": {},
   "source": [
    "### O método `actions`\n",
    "<img src=\"Imagens\\wind_rooster.jpg\" alt=\"Drawing\" style=\"width: 180px;\"/>\n",
    "\n",
    "As acções são identificadas pelos quatro símbolos seguintes: \"N\", \"W\", \"E\" e \"S\" e o output da função `actions` deve respeitar sempre esta ordem. Já sabem que o Sokoban não pode atravessar paredes e só pode empurrar caixas para as casas navegáveis que não tenham outras caixas. Essa é a versão standard.\n",
    "\n",
    "Mas iremos para lá da versão standard ao impôr uma **restrição extra: o Sokoban não pode empurrar caixas para os cantos que não sejam células objectivo.** Notem que se uma caixa estiver numa célula tipo canto nunca mais poderá ser empurrada pelo Sokoban e se não estiver num objectivo então o problema ficará sem solução. É uma restrição que pode ajudar bastante ao antecipar a falha de solução para um problema, diminuindo o espaço de procura e a eficência dos métodos de procura. Podíamos impor mais restrições mas ficamos por aqui. "
   ]
  },
  {
   "cell_type": "markdown",
   "metadata": {},
   "source": [
    "### O método `result`\n",
    "Reparem que se um estado $s$ for input do método `result` ele deve permanecer exactamente igual após a sua execução, i.e. não deve ser modificado pelo método. Deve ser gerado um estado completamente novo $s'$ e não alterar o estado $s$! Notem que o teste de validade das acções deve ser feito no método `actions` sendo ineficiente e redundante fazerem-no de novo no método `result`."
   ]
  },
  {
   "cell_type": "markdown",
   "metadata": {},
   "source": [
    "### Programação ao ataque\n",
    "\n",
    "Não têm que se preocupar com situações iniciais do mundo que não sejam válidas. Queremos que foquem no objectivo desta avaliação contínua que é a modelização do problema num espaço de estados. Por exemplo, uma situação inválida o mundo nºao estar rodeado de paredes, podendo o Sokoban dirigir-se para Marte ou o nº de objectivos ser distinto das caixas ou aparecerem símbolos deiferentes dos que convencionámos. Desenvolvam o código assumindo sempre que o input do construtor da classe `Sokoban` é sempre válido."
   ]
  },
  {
   "cell_type": "markdown",
   "metadata": {},
   "source": [
    "### O método `executa`\n",
    "<img src=\"Imagens\\sokobanXX.gif\" alt=\"Drawing\" style=\"width: 200px;\"/>\n",
    "A função `executa` permite executar uma sequência de acções a partir de um determinado estado. Serve para ajudar a testarem o vosso código.\n",
    "\n",
    "Notem a título de curiosidade que uma solução em 9 passos para o problema short de cima, seria:\n",
    "```python\n",
    "W-W-N-W-W-S-E-E-E \n",
    "```\n",
    "\n",
    "Permite testar, por exemplo, que se partirmos do estado incial de `short`, e invocarmos a lista de acções acabadas de apresentar atingiremos o estado final.\n",
    "\n",
    "```python\n",
    "linha1=\"##########\\n\"\n",
    "linha2=\"#........#\\n\"\n",
    "linha3=\"#..$..+..#\\n\"\n",
    "linha4=\"#........#\\n\"\n",
    "linha5=\"##########\\n\"\n",
    "mundoS=linha1+linha2+linha3+linha4+linha5\n",
    "short=Sokoban(situacaoInicial=mundoS)\n",
    "seq=['W','W','N','W','W','S','E','E','E'] \n",
    "short.goal_test(short.executa(short.initial,seq))\n",
    "True\n",
    "```"
   ]
  },
  {
   "cell_type": "markdown",
   "metadata": {},
   "source": [
    "### O método `display`\n",
    "<img src=\"Imagens\\sokoban-gif.gif\" alt=\"Drawing\" style=\"width: 250px;\"/>\n",
    "\n",
    "A função `display` pega em qualquer estado mais a informação estática associada ao problema e faz a visualização do mundo em modo texto respeitando o formato usado no input do construtor.\n",
    "Eis um exemplo da sua aplicação, em que se faz uso do valor da variável `MundoStandard`, definida atrás:\n",
    "```python\n",
    "g = Sokoban(MundoStandard)\n",
    "print(g.display(g.initial))\n",
    "  ##### \n",
    "###...# \n",
    "#o@$..# \n",
    "###.$o# \n",
    "#o##..# \n",
    "#.#...##\n",
    "#$.....#\n",
    "#......#\n",
    "########\n",
    "```\n",
    "\n",
    "Esta função vai ser muito importante para testarmos o método `result` porque como a formulação dos estados é livre os testes automáticos dependem totalmente do método display`. "
   ]
  },
  {
   "cell_type": "markdown",
   "metadata": {},
   "source": [
    "## Dúvidas\n",
    "<img src=\"Imagens\\carta.gif\" alt=\"Drawing\" style=\"width: 200px;\"/>\n",
    "\n",
    "Podem comunicar quaisquer dúvidas sobre o enunciado usando o fórum mas para tudo o resto: dúvidas sobre o código e quanto ao resultado dos testes escondidos devem apenas contactar directamente o Paulo Urbano através de pjurbano@fc.ul.pt.\n"
   ]
  },
  {
   "cell_type": "markdown",
   "metadata": {},
   "source": [
    "## Submissão\n",
    "\n",
    "### Quizz\n",
    "Cada grupo deve completar a implementação da classe pedida e testá-la no link do *quizz* **Avaliação Contínua 1** que está na página da disciplina, introduzindo aí o vosso código. \n",
    "\n",
    "Esse *quizz* é constituído por uma única pergunta. A implementação da classe `Sokoban` é avaliada através de um conjunto de testes automáticos visíveis e mais alguns testes escondidos, valendo no total 1.75 valores. Os testes visíveis valem 0.25 e os invisíveis 1.50.\n",
    "\n",
    "Podem ir verificando o código (botão check) e submeterem as vezes que quiserem (por ambos os elementos do grupo), sendo a submissão com melhor nota entre todas as submetidas pelos elementos do grupo a que será considerada. Qualquer tentativa não manualmente submetida é automaticamente submetida no fecho do prazo.\n",
    "\n",
    "### Prazo\n",
    "A submissão fecha às **23:59 de Terça, 8 de Outubro**.\n",
    "\n",
    "\n",
    "### Ficheiro Python\n",
    "Simultaneamente é necessario submeter o ficheiro Python que contém todo o código na página da disciplina. **Só queremos uma submissão por grupo**. Esse ficheiro deve chamar-se *Sokoban_IIA_24_25_grupoXX.py* em que substituem XX pelo número do grupo. "
   ]
  },
  {
   "cell_type": "markdown",
   "metadata": {},
   "source": [
    "<img src=\"Imagens\\the-end.gif\" alt=\"Drawing\" style=\"width: 200px;\"/>"
   ]
  }
 ],
 "metadata": {
  "colab": {
   "collapsed_sections": [],
   "name": "Untitled0.ipynb",
   "provenance": [],
   "version": "0.3.2"
  },
  "kernelspec": {
   "display_name": "Python 3",
   "language": "python",
   "name": "python3"
  },
  "language_info": {
   "codemirror_mode": {
    "name": "ipython",
    "version": 3
   },
   "file_extension": ".py",
   "mimetype": "text/x-python",
   "name": "python",
   "nbconvert_exporter": "python",
   "pygments_lexer": "ipython3",
   "version": "3.7.3"
  }
 },
 "nbformat": 4,
 "nbformat_minor": 2
}
