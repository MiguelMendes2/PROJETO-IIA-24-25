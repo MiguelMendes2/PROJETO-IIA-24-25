{
 "cells": [
  {
   "cell_type": "code",
   "execution_count": 63,
   "metadata": {},
   "outputs": [],
   "source": [
    "from searchPlus import *\n",
    "from copy import deepcopy\n",
    "\n",
    "linha1= \"  ##### \\n\"\n",
    "linha2= \"###...# \\n\"\n",
    "linha3= \"#o@$..# \\n\"\n",
    "linha4= \"###.$o# \\n\"\n",
    "linha5= \"#o##..# \\n\"\n",
    "linha6= \"#.#...##\\n\"\n",
    "linha7= \"#$.....#\\n\"\n",
    "linha8= \"#......#\\n\"\n",
    "linha9= \"########\\n\"\n",
    "mundoStandard=linha1+linha2+linha3+linha4+linha5+linha6+linha7+linha8+linha9\n",
    "\n",
    "class SokobanState(object):\n",
    "\n",
    "    def __init__(self, sokoban, boxes):\n",
    "        self.sokoban = tuple(sokoban)\n",
    "        self.boxes = set(boxes)\n",
    "\n",
    "    def __eq__(self, value: object) -> bool:\n",
    "        return (self.sokoban == value.sokoban and\n",
    "                self.boxes == value.boxes)\n",
    "\n",
    "\n",
    "class Sokoban(Problem):\n",
    "\n",
    "    directions = {\n",
    "            'N': (-1, 0),  # Norte (acima)\n",
    "            'W': (0, -1),  # Oeste (esquerda)\n",
    "            'E': (0, 1),   # Leste (direita)\n",
    "            'S': (1, 0),   # Sul (abaixo)\n",
    "        }\n",
    "\n",
    "    def __init__(self, situacaoInicial=mundoStandard):\n",
    "        \"\"\"Construtor de Sokoban\"\"\"\n",
    "        sokoban, boxes, goals, corners = None, set(), set(), set()\n",
    "        self.map = situacaoInicial.split('\\n')[:-1]\n",
    "        for i, line in enumerate(self.map):\n",
    "            for j, char in enumerate(line):\n",
    "                if char in \"@+\":\n",
    "                    sokoban = (i, j)\n",
    "                if char in \"$*\":\n",
    "                    boxes.add((i, j))\n",
    "                if char in \"+*o\":\n",
    "                    goals.add((i, j))\n",
    "                if char in \".@\" and self.is_corner(i, j):\n",
    "                    corners.add((i, j))\n",
    "        self.corners = corners\n",
    "        self.initial = SokobanState(sokoban, boxes)\n",
    "        self.goals = set(goals)\n",
    "\n",
    "    def is_corner(self, i, j):\n",
    "        \"\"\"Identifica as cantos\"\"\"\n",
    "        if self.map[i - 1][j] == \"#\" and self.map[i][j - 1] == \"#\": # Canto superior esquerdo\n",
    "            return True\n",
    "        if self.map[i - 1][j] == \"#\" and self.map[i][j + 1] == \"#\": # Canto superior direito\n",
    "            return True\n",
    "        if self.map[i + 1][j] == \"#\" and self.map[i][j - 1] == \"#\": # Canto inferior esquerdo\n",
    "            return True\n",
    "        if self.map[i + 1][j] == \"#\" and self.map[i][j + 1] == \"#\": # Canto inferior direito\n",
    "            return True\n",
    "        return False\n",
    "\n",
    "    def movimento_valido(self, state, x, y, dx, dy):\n",
    "        \"\"\"Verifica se o movimento na direção dx, dy é válido\"\"\"\n",
    "        mapa = self.map\n",
    "        comp = len(mapa)\n",
    "        lag = len(mapa[0])\n",
    "\n",
    "        # Posição para onde o Sokoban deseja ir\n",
    "        new_x, new_y = x + dx, y + dy\n",
    "\n",
    "        # Se a nova posição for navegável, o movimento é válido\n",
    "        if mapa[new_x][new_y] != \"#\" and (new_x, new_y) not in state.boxes:\n",
    "            return True\n",
    "\n",
    "        # Se a nova posição contiver uma caixa, verifica se ela pode ser empurrada\n",
    "        if (new_x, new_y) in state.boxes:\n",
    "            proximo_x, proximo_y = new_x + dx, new_y + dy\n",
    "\n",
    "            # Verifica se a posição seguinte é válida\n",
    "            if proximo_x < 0 or proximo_x >= comp or proximo_y < 0 or proximo_y >= lag:\n",
    "                return False\n",
    "\n",
    "            # Verifica se a posição seguinte é uma caixa\n",
    "            if (proximo_x, proximo_y) in state.boxes:\n",
    "                return False\n",
    "\n",
    "            proximo_destino = mapa[proximo_x][proximo_y]\n",
    "            # A caixa pode ser empurrada se a próxima posição for navegável ou um objetivo\n",
    "            if (proximo_x, proximo_y) in self.goals or (proximo_destino != \"#\" and (proximo_x, proximo_y) not in self.corners):\n",
    "                return True\n",
    "\n",
    "        # Qualquer outra situação torna o movimento inválido\n",
    "        return False\n",
    "\n",
    "    def actions(self, state):\n",
    "        \"\"\"Retorna uma lista de ações possíveis (N, S, W, E) para o Sokoban\"\"\"\n",
    "        x, y = state.sokoban\n",
    "        actions = []\n",
    "\n",
    "        for direcao, (dx, dy) in self.directions.items():\n",
    "            if self.movimento_valido(state, x, y, dx, dy):\n",
    "                actions.append(direcao)\n",
    "        return actions\n",
    "\n",
    "    def result(self, state, action):\n",
    "        \"\"\"Devolve o estado que resulta de executar action em state\"\"\"\n",
    "        nstate = SokobanState(deepcopy(state.sokoban), deepcopy(state.boxes))\n",
    "        ni, nj = nstate.sokoban\n",
    "        dx, dy = self.directions[action]\n",
    "        nstate.sokoban = (ni + dx, nj + dy)\n",
    "\n",
    "        if nstate.sokoban in nstate.boxes:\n",
    "            nni, nnj = nstate.sokoban\n",
    "            nstate.boxes.remove(nstate.sokoban)\n",
    "            nstate.boxes.add((nni + dx, nnj + dy))\n",
    "        return nstate\n",
    "\n",
    "    def goal_test(self, state):\n",
    "        \"\"\"Verifica se state é um estado final\"\"\"\n",
    "        return state.boxes == self.goals\n",
    "\n",
    "    def executa(self, state, actions):\n",
    "        \"\"\"Partindo de state, executa a sequência (lista) de acções (em actions) e devolve o último estado\"\"\"\n",
    "        nstate = SokobanState(deepcopy(state.sokoban), deepcopy(state.boxes))\n",
    "        for a in actions:\n",
    "            nstate = self.result(nstate, a)\n",
    "        return nstate\n",
    "\n",
    "    def display(self, state):\n",
    "        \"\"\"Devolve a grelha em modo txt\"\"\"\n",
    "        map = \"\"\n",
    "        for i, linha in enumerate(self.map):\n",
    "            for j, celula in enumerate(linha):\n",
    "                if (i, j) == state.sokoban:\n",
    "                    map += \"+\" if (i, j) in self.goals else \"@\"\n",
    "                elif (i, j) in state.boxes:\n",
    "                    map +=  \"*\" if (i, j) in self.goals else \"$\"\n",
    "                elif (i, j) in self.goals:\n",
    "                    map += \"o\"\n",
    "                elif celula in \"# \":\n",
    "                    map += celula\n",
    "                else:\n",
    "                    map += \".\"\n",
    "            map += '\\n'\n",
    "        return map\n",
    "\n",
    "    def __eq__(self, value: object) -> bool:\n",
    "        return super().__eq__(value)"
   ]
  },
  {
   "cell_type": "code",
   "execution_count": 62,
   "metadata": {},
   "outputs": [
    {
     "name": "stdout",
     "output_type": "stream",
     "text": [
      "Solução Larg-prim (grafo) com custo 20:\n",
      "['E', 'N', 'E', 'E', 'S', 'W', 'W', 'W', 'E', 'S', 'E', 'S', 'S', 'W', 'S', 'W', 'S', 'W', 'N', 'N']\n",
      "Visitados: 3814\n"
     ]
    }
   ],
   "source": [
    "gx=Sokoban()\n",
    "resultado,vis = breadth_first_search_iia_count(gx)\n",
    "if resultado:\n",
    "    print(\"Solução Larg-prim (grafo) com custo\", str(resultado.path_cost)+\":\")\n",
    "    print(resultado.solution())\n",
    "else:\n",
    "    print('Sem Solução')\n",
    "print(\"Visitados:\",vis)"
   ]
  },
  {
   "cell_type": "code",
   "execution_count": 226,
   "metadata": {},
   "outputs": [
    {
     "name": "stdout",
     "output_type": "stream",
     "text": [
      "True\n"
     ]
    }
   ],
   "source": [
    "p1=Sokoban()\n",
    "p2=Sokoban()\n",
    "print(p1.initial==p2.initial)"
   ]
  },
  {
   "cell_type": "code",
   "execution_count": 227,
   "metadata": {},
   "outputs": [
    {
     "name": "stdout",
     "output_type": "stream",
     "text": [
      "False\n"
     ]
    }
   ],
   "source": [
    "l1= '  ######\\n'\n",
    "l2= '  #.oo@#\\n'\n",
    "l3= '  #.$$.#\\n'\n",
    "l4= '  ##.###\\n'\n",
    "l5= '   #.#\\n'\n",
    "l6= '   #.#\\n'\n",
    "l7= '####.#\\n'\n",
    "l8= '#....##\\n'\n",
    "l9= '#.#...#\\n'\n",
    "l10= '#...#.#\\n'\n",
    "l11='###...#\\n'\n",
    "l12='  #####\\n'\n",
    "\n",
    "mod6=l1+l2+l3+l4+l5+l6+l7+l8+l9+l10+l11+l12\n",
    "short=Sokoban(situacaoInicial=mod6)\n",
    "short.display(short.initial)\n",
    "ei=Sokoban()\n",
    "print(short.initial==ei.initial)"
   ]
  },
  {
   "cell_type": "code",
   "execution_count": 67,
   "metadata": {},
   "outputs": [
    {
     "name": "stdout",
     "output_type": "stream",
     "text": [
      "['W', 'E']\n"
     ]
    }
   ],
   "source": [
    "g = Sokoban()\n",
    "print(g.actions(g.initial))"
   ]
  },
  {
   "cell_type": "code",
   "execution_count": 68,
   "metadata": {},
   "outputs": [
    {
     "name": "stdout",
     "output_type": "stream",
     "text": [
      "['S', 'W']\n"
     ]
    }
   ],
   "source": [
    "l1= '  ######\\n'\n",
    "l2= '  #.oo@#\\n'\n",
    "l3= '  #.$$.#\\n'\n",
    "l4= '  ##.###\\n'\n",
    "l5= '   #.#\\n'\n",
    "l6= '   #.#\\n'\n",
    "l7= '####.#\\n'\n",
    "l8= '#....##\\n'\n",
    "l9= '#.#...#\\n'\n",
    "l10= '#...#.#\\n'\n",
    "l11='###...#\\n'\n",
    "l12='  #####\\n'\n",
    "\n",
    "mod6=l1+l2+l3+l4+l5+l6+l7+l8+l9+l10+l11+l12\n",
    "short=Sokoban(situacaoInicial=mod6)\n",
    "print(short.actions(short.initial))"
   ]
  },
  {
   "cell_type": "code",
   "execution_count": 69,
   "metadata": {},
   "outputs": [
    {
     "name": "stdout",
     "output_type": "stream",
     "text": [
      "[]\n"
     ]
    }
   ],
   "source": [
    "linha1=\"##########\\n\"\n",
    "linha2=\"#........#\\n\"\n",
    "linha3=\"#..$..+..#\\n\"\n",
    "linha4=\"#.....o..#\\n\"\n",
    "linha5=\"##########\\n\"\n",
    "mundoS=linha1+linha2+linha3+linha4+linha5\n",
    "short=Sokoban(situacaoInicial=mundoS)\n",
    "print(short.actions(short.initial))"
   ]
  },
  {
   "cell_type": "code",
   "execution_count": 70,
   "metadata": {},
   "outputs": [
    {
     "name": "stdout",
     "output_type": "stream",
     "text": [
      "['N', 'S', 'W', 'E']\n"
     ]
    }
   ],
   "source": [
    "linha1=\"##########\\n\"\n",
    "linha2=\"#.....$.##\\n\"\n",
    "linha3=\"#ooo#$@$o#\\n\"\n",
    "linha4=\"#o....$..#\\n\"\n",
    "linha5=\"##########\\n\"\n",
    "mundoS=linha1+linha2+linha3+linha4+linha5\n",
    "short2=Sokoban(situacaoInicial=mundoS)\n",
    "print(short2.actions(short2.initial))"
   ]
  },
  {
   "cell_type": "code",
   "execution_count": 71,
   "metadata": {},
   "outputs": [
    {
     "name": "stdout",
     "output_type": "stream",
     "text": [
      "False\n",
      "False\n"
     ]
    }
   ],
   "source": [
    "inversa={'N': 'S', 'S': 'N','W': 'E', 'E': 'W'}\n",
    "standard=Sokoban()\n",
    "accoes=standard.actions(standard.initial)\n",
    "#print(standard.initial)\n",
    "for x in accoes:\n",
    "    seg=standard.result(standard.initial,x)\n",
    "    ni=standard.result(seg,inversa[x])\n",
    "    print(standard.initial==ni)"
   ]
  },
  {
   "cell_type": "code",
   "execution_count": 72,
   "metadata": {},
   "outputs": [
    {
     "name": "stdout",
     "output_type": "stream",
     "text": [
      "  ##### \n",
      "###...# \n",
      "#o @..# \n",
      "###.$o# \n",
      "#o##..# \n",
      "#.#...##\n",
      "#$.....#\n",
      "#......#\n",
      "########\n",
      "\n"
     ]
    }
   ],
   "source": [
    "g=Sokoban()\n",
    "print(g.display(g.result(g.initial,g.actions(g.initial)[1])))"
   ]
  },
  {
   "cell_type": "code",
   "execution_count": 73,
   "metadata": {},
   "outputs": [
    {
     "name": "stdout",
     "output_type": "stream",
     "text": [
      "True\n",
      "True\n"
     ]
    }
   ],
   "source": [
    "standard=Sokoban()\n",
    "accoes=standard.actions(standard.initial)\n",
    "ss=Sokoban()\n",
    "for a in accoes:\n",
    "    n=standard.result(standard.initial,a)\n",
    "    print(standard.initial==ss.initial)"
   ]
  },
  {
   "cell_type": "code",
   "execution_count": 74,
   "metadata": {},
   "outputs": [
    {
     "name": "stdout",
     "output_type": "stream",
     "text": [
      "Goal? False\n"
     ]
    }
   ],
   "source": [
    "g=Sokoban()\n",
    "print('Goal?',g.goal_test(g.initial))"
   ]
  },
  {
   "cell_type": "code",
   "execution_count": 75,
   "metadata": {},
   "outputs": [
    {
     "name": "stdout",
     "output_type": "stream",
     "text": [
      "##########\n",
      "#........#\n",
      "#..$..+..#\n",
      "#........#\n",
      "##########\n",
      "\n",
      "Goal? False\n"
     ]
    }
   ],
   "source": [
    "linha1=\"##########\\n\"\n",
    "linha2=\"#........#\\n\"\n",
    "linha3=\"#..$..+..#\\n\"\n",
    "linha4=\"#........#\\n\"\n",
    "linha5=\"##########\\n\"\n",
    "mundoS=linha1+linha2+linha3+linha4+linha5\n",
    "short=Sokoban(situacaoInicial=mundoS)\n",
    "seq=['W','W','N','W','W','S','E','E','E']\n",
    "final=short.executa(short.initial,seq)\n",
    "print(short.display(final))\n",
    "print('Goal?',short.goal_test(final))"
   ]
  },
  {
   "cell_type": "code",
   "execution_count": 76,
   "metadata": {},
   "outputs": [
    {
     "ename": "NameError",
     "evalue": "name 'breadth_first_search_iia_count' is not defined",
     "output_type": "error",
     "traceback": [
      "\u001b[1;31m---------------------------------------------------------------------------\u001b[0m",
      "\u001b[1;31mNameError\u001b[0m                                 Traceback (most recent call last)",
      "Cell \u001b[1;32mIn[76], line 2\u001b[0m\n\u001b[0;32m      1\u001b[0m gx\u001b[38;5;241m=\u001b[39mSokoban()\n\u001b[1;32m----> 2\u001b[0m resultado,vis \u001b[38;5;241m=\u001b[39m breadth_first_search_iia_count(gx)\n\u001b[0;32m      3\u001b[0m \u001b[38;5;28;01mif\u001b[39;00m resultado:\n\u001b[0;32m      4\u001b[0m     \u001b[38;5;28mprint\u001b[39m(\u001b[38;5;124m\"\u001b[39m\u001b[38;5;124mSolução Larg-prim (grafo) com custo\u001b[39m\u001b[38;5;124m\"\u001b[39m, \u001b[38;5;28mstr\u001b[39m(resultado\u001b[38;5;241m.\u001b[39mpath_cost)\u001b[38;5;241m+\u001b[39m\u001b[38;5;124m\"\u001b[39m\u001b[38;5;124m:\u001b[39m\u001b[38;5;124m\"\u001b[39m)\n",
      "\u001b[1;31mNameError\u001b[0m: name 'breadth_first_search_iia_count' is not defined"
     ]
    }
   ],
   "source": [
    "gx=Sokoban()\n",
    "resultado,vis = breadth_first_search_iia_count(gx)\n",
    "if resultado:\n",
    "    print(\"Solução Larg-prim (grafo) com custo\", str(resultado.path_cost)+\":\")\n",
    "    print(resultado.solution())\n",
    "else:\n",
    "    print('Sem Solução')\n",
    "print(\"Visitados:\",vis)"
   ]
  }
 ],
 "metadata": {
  "kernelspec": {
   "display_name": "base",
   "language": "python",
   "name": "python3"
  },
  "language_info": {
   "codemirror_mode": {
    "name": "ipython",
    "version": 3
   },
   "file_extension": ".py",
   "mimetype": "text/x-python",
   "name": "python",
   "nbconvert_exporter": "python",
   "pygments_lexer": "ipython3",
   "version": "3.12.4"
  }
 },
 "nbformat": 4,
 "nbformat_minor": 2
}
